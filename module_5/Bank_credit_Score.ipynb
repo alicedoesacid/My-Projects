{
 "cells": [
  {
   "cell_type": "code",
   "execution_count": 1,
   "metadata": {
    "_cell_guid": "b1076dfc-b9ad-4769-8c92-a6c4dae69d19",
    "_uuid": "8f2839f25d086af736a60e9eeb907d3b93b6e0e5",
    "execution": {
     "iopub.execute_input": "2021-03-05T18:56:22.949020Z",
     "iopub.status.busy": "2021-03-05T18:56:22.948411Z",
     "iopub.status.idle": "2021-03-05T18:56:22.953745Z",
     "shell.execute_reply": "2021-03-05T18:56:22.954238Z"
    },
    "papermill": {
     "duration": 0.064148,
     "end_time": "2021-03-05T18:56:22.954532",
     "exception": false,
     "start_time": "2021-03-05T18:56:22.890384",
     "status": "completed"
    },
    "tags": []
   },
   "outputs": [
    {
     "name": "stdout",
     "output_type": "stream",
     "text": [
      "/kaggle/input/sf-dst-scoring/sample_submission.csv\n",
      "/kaggle/input/sf-dst-scoring/train.csv\n",
      "/kaggle/input/sf-dst-scoring/test.csv\n"
     ]
    }
   ],
   "source": [
    "# This Python 3 environment comes with many helpful analytics libraries installed\n",
    "# It is defined by the kaggle/python Docker image: https://github.com/kaggle/docker-python\n",
    "# For example, here's several helpful packages to load\n",
    "\n",
    "import numpy as np # linear algebra\n",
    "import pandas as pd # data processing, CSV file I/O (e.g. pd.read_csv)\n",
    "\n",
    "# Input data files are available in the read-only \"../input/\" directory\n",
    "# For example, running this (by clicking run or pressing Shift+Enter) will list all files under the input directory\n",
    "\n",
    "import os\n",
    "for dirname, _, filenames in os.walk('/kaggle/input'):\n",
    "    for filename in filenames:\n",
    "        print(os.path.join(dirname, filename))\n",
    "\n",
    "# You can write up to 20GB to the current directory (/kaggle/working/) that gets preserved as output when you create a version using \"Save & Run All\" \n",
    "# You can also write temporary files to /kaggle/temp/, but they won't be saved outside of the current session"
   ]
  },
  {
   "cell_type": "code",
   "execution_count": 2,
   "metadata": {
    "execution": {
     "iopub.execute_input": "2021-03-05T18:56:23.063620Z",
     "iopub.status.busy": "2021-03-05T18:56:23.062814Z",
     "iopub.status.idle": "2021-03-05T18:56:25.414982Z",
     "shell.execute_reply": "2021-03-05T18:56:25.414335Z"
    },
    "papermill": {
     "duration": 2.411234,
     "end_time": "2021-03-05T18:56:25.415167",
     "exception": false,
     "start_time": "2021-03-05T18:56:23.003933",
     "status": "completed"
    },
    "tags": []
   },
   "outputs": [],
   "source": [
    "import pandas as pd\n",
    "import datetime\n",
    "import pandas_profiling\n",
    "import numpy as np\n",
    "import matplotlib.pyplot as plt\n",
    "import seaborn as sns \n",
    "%matplotlib inline\n",
    "\n",
    "from sklearn.feature_selection import f_classif, mutual_info_classif\n",
    "from sklearn.preprocessing import LabelEncoder, OneHotEncoder, StandardScaler\n",
    "from sklearn.metrics import plot_confusion_matrix\n",
    "from sklearn.preprocessing import PolynomialFeatures\n",
    "from sklearn.model_selection import train_test_split,GridSearchCV\n",
    "from sklearn.metrics import auc, roc_auc_score, roc_curve\n",
    "from sklearn.linear_model import LogisticRegression\n",
    "from sklearn.metrics import accuracy_score, precision_score, recall_score, f1_score\n",
    "from sklearn.model_selection import cross_validate\n",
    "from sklearn.metrics import confusion_matrix, ConfusionMatrixDisplay\n",
    "from scipy.stats import randint\n",
    "from sklearn.tree import DecisionTreeClassifier\n",
    "from sklearn.model_selection import RandomizedSearchCV\n",
    "\n",
    "\n",
    "from mlxtend.feature_selection import ExhaustiveFeatureSelector as EFS\n",
    "from math import log as log\n",
    "import os"
   ]
  },
  {
   "cell_type": "markdown",
   "metadata": {
    "papermill": {
     "duration": 0.048044,
     "end_time": "2021-03-05T18:56:25.511547",
     "exception": false,
     "start_time": "2021-03-05T18:56:25.463503",
     "status": "completed"
    },
    "tags": []
   },
   "source": [
    "# Information"
   ]
  },
  {
   "cell_type": "code",
   "execution_count": 3,
   "metadata": {
    "execution": {
     "iopub.execute_input": "2021-03-05T18:56:25.613652Z",
     "iopub.status.busy": "2021-03-05T18:56:25.612706Z",
     "iopub.status.idle": "2021-03-05T18:56:25.615895Z",
     "shell.execute_reply": "2021-03-05T18:56:25.615415Z"
    },
    "papermill": {
     "duration": 0.056027,
     "end_time": "2021-03-05T18:56:25.616034",
     "exception": false,
     "start_time": "2021-03-05T18:56:25.560007",
     "status": "completed"
    },
    "tags": []
   },
   "outputs": [],
   "source": [
    "path = '/kaggle/input/sf-dst-scoring/'"
   ]
  },
  {
   "cell_type": "code",
   "execution_count": 4,
   "metadata": {
    "execution": {
     "iopub.execute_input": "2021-03-05T18:56:25.718478Z",
     "iopub.status.busy": "2021-03-05T18:56:25.717800Z",
     "iopub.status.idle": "2021-03-05T18:56:26.053596Z",
     "shell.execute_reply": "2021-03-05T18:56:26.052954Z"
    },
    "papermill": {
     "duration": 0.389435,
     "end_time": "2021-03-05T18:56:26.053742",
     "exception": false,
     "start_time": "2021-03-05T18:56:25.664307",
     "status": "completed"
    },
    "tags": []
   },
   "outputs": [],
   "source": [
    "train = pd.read_csv(path +'/train.csv')\n",
    "test = pd.read_csv(path +'test.csv')\n",
    "sample = pd.read_csv(path +'/sample_submission.csv')"
   ]
  },
  {
   "cell_type": "code",
   "execution_count": 5,
   "metadata": {
    "execution": {
     "iopub.execute_input": "2021-03-05T18:56:26.165624Z",
     "iopub.status.busy": "2021-03-05T18:56:26.164717Z",
     "iopub.status.idle": "2021-03-05T18:56:26.250678Z",
     "shell.execute_reply": "2021-03-05T18:56:26.250058Z"
    },
    "papermill": {
     "duration": 0.14831,
     "end_time": "2021-03-05T18:56:26.250812",
     "exception": false,
     "start_time": "2021-03-05T18:56:26.102502",
     "status": "completed"
    },
    "tags": []
   },
   "outputs": [
    {
     "name": "stdout",
     "output_type": "stream",
     "text": [
      "<class 'pandas.core.frame.DataFrame'>\n",
      "RangeIndex: 73799 entries, 0 to 73798\n",
      "Data columns (total 19 columns):\n",
      " #   Column            Non-Null Count  Dtype  \n",
      "---  ------            --------------  -----  \n",
      " 0   client_id         73799 non-null  int64  \n",
      " 1   app_date          73799 non-null  object \n",
      " 2   education         73492 non-null  object \n",
      " 3   sex               73799 non-null  object \n",
      " 4   age               73799 non-null  int64  \n",
      " 5   car               73799 non-null  object \n",
      " 6   car_type          73799 non-null  object \n",
      " 7   decline_app_cnt   73799 non-null  int64  \n",
      " 8   good_work         73799 non-null  int64  \n",
      " 9   score_bki         73799 non-null  float64\n",
      " 10  bki_request_cnt   73799 non-null  int64  \n",
      " 11  region_rating     73799 non-null  int64  \n",
      " 12  home_address      73799 non-null  int64  \n",
      " 13  work_address      73799 non-null  int64  \n",
      " 14  income            73799 non-null  int64  \n",
      " 15  sna               73799 non-null  int64  \n",
      " 16  first_time        73799 non-null  int64  \n",
      " 17  foreign_passport  73799 non-null  object \n",
      " 18  default           73799 non-null  int64  \n",
      "dtypes: float64(1), int64(12), object(6)\n",
      "memory usage: 10.7+ MB\n",
      "None\n",
      "Train size:  (73799, 19)\n"
     ]
    },
    {
     "data": {
      "text/html": [
       "<div>\n",
       "<style scoped>\n",
       "    .dataframe tbody tr th:only-of-type {\n",
       "        vertical-align: middle;\n",
       "    }\n",
       "\n",
       "    .dataframe tbody tr th {\n",
       "        vertical-align: top;\n",
       "    }\n",
       "\n",
       "    .dataframe thead th {\n",
       "        text-align: right;\n",
       "    }\n",
       "</style>\n",
       "<table border=\"1\" class=\"dataframe\">\n",
       "  <thead>\n",
       "    <tr style=\"text-align: right;\">\n",
       "      <th></th>\n",
       "      <th>client_id</th>\n",
       "      <th>app_date</th>\n",
       "      <th>education</th>\n",
       "      <th>sex</th>\n",
       "      <th>age</th>\n",
       "      <th>car</th>\n",
       "      <th>car_type</th>\n",
       "      <th>decline_app_cnt</th>\n",
       "      <th>good_work</th>\n",
       "      <th>score_bki</th>\n",
       "      <th>bki_request_cnt</th>\n",
       "      <th>region_rating</th>\n",
       "      <th>home_address</th>\n",
       "      <th>work_address</th>\n",
       "      <th>income</th>\n",
       "      <th>sna</th>\n",
       "      <th>first_time</th>\n",
       "      <th>foreign_passport</th>\n",
       "      <th>default</th>\n",
       "    </tr>\n",
       "  </thead>\n",
       "  <tbody>\n",
       "    <tr>\n",
       "      <th>0</th>\n",
       "      <td>25905</td>\n",
       "      <td>01FEB2014</td>\n",
       "      <td>SCH</td>\n",
       "      <td>M</td>\n",
       "      <td>62</td>\n",
       "      <td>Y</td>\n",
       "      <td>Y</td>\n",
       "      <td>0</td>\n",
       "      <td>0</td>\n",
       "      <td>-2.008753</td>\n",
       "      <td>1</td>\n",
       "      <td>50</td>\n",
       "      <td>1</td>\n",
       "      <td>2</td>\n",
       "      <td>18000</td>\n",
       "      <td>4</td>\n",
       "      <td>1</td>\n",
       "      <td>N</td>\n",
       "      <td>0</td>\n",
       "    </tr>\n",
       "    <tr>\n",
       "      <th>1</th>\n",
       "      <td>63161</td>\n",
       "      <td>12MAR2014</td>\n",
       "      <td>SCH</td>\n",
       "      <td>F</td>\n",
       "      <td>59</td>\n",
       "      <td>N</td>\n",
       "      <td>N</td>\n",
       "      <td>0</td>\n",
       "      <td>0</td>\n",
       "      <td>-1.532276</td>\n",
       "      <td>3</td>\n",
       "      <td>50</td>\n",
       "      <td>2</td>\n",
       "      <td>3</td>\n",
       "      <td>19000</td>\n",
       "      <td>4</td>\n",
       "      <td>1</td>\n",
       "      <td>N</td>\n",
       "      <td>0</td>\n",
       "    </tr>\n",
       "    <tr>\n",
       "      <th>2</th>\n",
       "      <td>25887</td>\n",
       "      <td>01FEB2014</td>\n",
       "      <td>SCH</td>\n",
       "      <td>M</td>\n",
       "      <td>25</td>\n",
       "      <td>Y</td>\n",
       "      <td>N</td>\n",
       "      <td>2</td>\n",
       "      <td>0</td>\n",
       "      <td>-1.408142</td>\n",
       "      <td>1</td>\n",
       "      <td>80</td>\n",
       "      <td>1</td>\n",
       "      <td>2</td>\n",
       "      <td>30000</td>\n",
       "      <td>1</td>\n",
       "      <td>4</td>\n",
       "      <td>Y</td>\n",
       "      <td>0</td>\n",
       "    </tr>\n",
       "    <tr>\n",
       "      <th>3</th>\n",
       "      <td>16222</td>\n",
       "      <td>23JAN2014</td>\n",
       "      <td>SCH</td>\n",
       "      <td>F</td>\n",
       "      <td>53</td>\n",
       "      <td>N</td>\n",
       "      <td>N</td>\n",
       "      <td>0</td>\n",
       "      <td>0</td>\n",
       "      <td>-2.057471</td>\n",
       "      <td>2</td>\n",
       "      <td>50</td>\n",
       "      <td>2</td>\n",
       "      <td>3</td>\n",
       "      <td>10000</td>\n",
       "      <td>1</td>\n",
       "      <td>3</td>\n",
       "      <td>N</td>\n",
       "      <td>0</td>\n",
       "    </tr>\n",
       "    <tr>\n",
       "      <th>4</th>\n",
       "      <td>101655</td>\n",
       "      <td>18APR2014</td>\n",
       "      <td>GRD</td>\n",
       "      <td>M</td>\n",
       "      <td>48</td>\n",
       "      <td>N</td>\n",
       "      <td>N</td>\n",
       "      <td>0</td>\n",
       "      <td>1</td>\n",
       "      <td>-1.244723</td>\n",
       "      <td>1</td>\n",
       "      <td>60</td>\n",
       "      <td>2</td>\n",
       "      <td>3</td>\n",
       "      <td>30000</td>\n",
       "      <td>1</td>\n",
       "      <td>4</td>\n",
       "      <td>Y</td>\n",
       "      <td>0</td>\n",
       "    </tr>\n",
       "  </tbody>\n",
       "</table>\n",
       "</div>"
      ],
      "text/plain": [
       "   client_id   app_date education sex  age car car_type  decline_app_cnt  \\\n",
       "0      25905  01FEB2014       SCH   M   62   Y        Y                0   \n",
       "1      63161  12MAR2014       SCH   F   59   N        N                0   \n",
       "2      25887  01FEB2014       SCH   M   25   Y        N                2   \n",
       "3      16222  23JAN2014       SCH   F   53   N        N                0   \n",
       "4     101655  18APR2014       GRD   M   48   N        N                0   \n",
       "\n",
       "   good_work  score_bki  bki_request_cnt  region_rating  home_address  \\\n",
       "0          0  -2.008753                1             50             1   \n",
       "1          0  -1.532276                3             50             2   \n",
       "2          0  -1.408142                1             80             1   \n",
       "3          0  -2.057471                2             50             2   \n",
       "4          1  -1.244723                1             60             2   \n",
       "\n",
       "   work_address  income  sna  first_time foreign_passport  default  \n",
       "0             2   18000    4           1                N        0  \n",
       "1             3   19000    4           1                N        0  \n",
       "2             2   30000    1           4                Y        0  \n",
       "3             3   10000    1           3                N        0  \n",
       "4             3   30000    1           4                Y        0  "
      ]
     },
     "execution_count": 5,
     "metadata": {},
     "output_type": "execute_result"
    }
   ],
   "source": [
    "print(train.info())\n",
    "print('Train size: ', train.shape)\n",
    "train.head()"
   ]
  },
  {
   "cell_type": "code",
   "execution_count": 6,
   "metadata": {
    "execution": {
     "iopub.execute_input": "2021-03-05T18:56:26.378619Z",
     "iopub.status.busy": "2021-03-05T18:56:26.356007Z",
     "iopub.status.idle": "2021-03-05T18:56:26.407426Z",
     "shell.execute_reply": "2021-03-05T18:56:26.407857Z"
    },
    "papermill": {
     "duration": 0.107402,
     "end_time": "2021-03-05T18:56:26.408026",
     "exception": false,
     "start_time": "2021-03-05T18:56:26.300624",
     "status": "completed"
    },
    "tags": []
   },
   "outputs": [
    {
     "name": "stdout",
     "output_type": "stream",
     "text": [
      "<class 'pandas.core.frame.DataFrame'>\n",
      "RangeIndex: 36349 entries, 0 to 36348\n",
      "Data columns (total 18 columns):\n",
      " #   Column            Non-Null Count  Dtype  \n",
      "---  ------            --------------  -----  \n",
      " 0   client_id         36349 non-null  int64  \n",
      " 1   app_date          36349 non-null  object \n",
      " 2   education         36178 non-null  object \n",
      " 3   sex               36349 non-null  object \n",
      " 4   age               36349 non-null  int64  \n",
      " 5   car               36349 non-null  object \n",
      " 6   car_type          36349 non-null  object \n",
      " 7   decline_app_cnt   36349 non-null  int64  \n",
      " 8   good_work         36349 non-null  int64  \n",
      " 9   score_bki         36349 non-null  float64\n",
      " 10  bki_request_cnt   36349 non-null  int64  \n",
      " 11  region_rating     36349 non-null  int64  \n",
      " 12  home_address      36349 non-null  int64  \n",
      " 13  work_address      36349 non-null  int64  \n",
      " 14  income            36349 non-null  int64  \n",
      " 15  sna               36349 non-null  int64  \n",
      " 16  first_time        36349 non-null  int64  \n",
      " 17  foreign_passport  36349 non-null  object \n",
      "dtypes: float64(1), int64(11), object(6)\n",
      "memory usage: 5.0+ MB\n",
      "None\n",
      "Test size:  (73799, 19)\n"
     ]
    },
    {
     "data": {
      "text/html": [
       "<div>\n",
       "<style scoped>\n",
       "    .dataframe tbody tr th:only-of-type {\n",
       "        vertical-align: middle;\n",
       "    }\n",
       "\n",
       "    .dataframe tbody tr th {\n",
       "        vertical-align: top;\n",
       "    }\n",
       "\n",
       "    .dataframe thead th {\n",
       "        text-align: right;\n",
       "    }\n",
       "</style>\n",
       "<table border=\"1\" class=\"dataframe\">\n",
       "  <thead>\n",
       "    <tr style=\"text-align: right;\">\n",
       "      <th></th>\n",
       "      <th>client_id</th>\n",
       "      <th>app_date</th>\n",
       "      <th>education</th>\n",
       "      <th>sex</th>\n",
       "      <th>age</th>\n",
       "      <th>car</th>\n",
       "      <th>car_type</th>\n",
       "      <th>decline_app_cnt</th>\n",
       "      <th>good_work</th>\n",
       "      <th>score_bki</th>\n",
       "      <th>bki_request_cnt</th>\n",
       "      <th>region_rating</th>\n",
       "      <th>home_address</th>\n",
       "      <th>work_address</th>\n",
       "      <th>income</th>\n",
       "      <th>sna</th>\n",
       "      <th>first_time</th>\n",
       "      <th>foreign_passport</th>\n",
       "    </tr>\n",
       "  </thead>\n",
       "  <tbody>\n",
       "    <tr>\n",
       "      <th>0</th>\n",
       "      <td>74835</td>\n",
       "      <td>22MAR2014</td>\n",
       "      <td>GRD</td>\n",
       "      <td>M</td>\n",
       "      <td>29</td>\n",
       "      <td>Y</td>\n",
       "      <td>Y</td>\n",
       "      <td>0</td>\n",
       "      <td>0</td>\n",
       "      <td>-2.271884</td>\n",
       "      <td>3</td>\n",
       "      <td>50</td>\n",
       "      <td>1</td>\n",
       "      <td>2</td>\n",
       "      <td>50000</td>\n",
       "      <td>1</td>\n",
       "      <td>4</td>\n",
       "      <td>N</td>\n",
       "    </tr>\n",
       "    <tr>\n",
       "      <th>1</th>\n",
       "      <td>17527</td>\n",
       "      <td>24JAN2014</td>\n",
       "      <td>SCH</td>\n",
       "      <td>F</td>\n",
       "      <td>39</td>\n",
       "      <td>N</td>\n",
       "      <td>N</td>\n",
       "      <td>5</td>\n",
       "      <td>0</td>\n",
       "      <td>-1.504999</td>\n",
       "      <td>2</td>\n",
       "      <td>50</td>\n",
       "      <td>1</td>\n",
       "      <td>2</td>\n",
       "      <td>5000</td>\n",
       "      <td>4</td>\n",
       "      <td>3</td>\n",
       "      <td>N</td>\n",
       "    </tr>\n",
       "    <tr>\n",
       "      <th>2</th>\n",
       "      <td>75683</td>\n",
       "      <td>23MAR2014</td>\n",
       "      <td>UGR</td>\n",
       "      <td>M</td>\n",
       "      <td>50</td>\n",
       "      <td>Y</td>\n",
       "      <td>Y</td>\n",
       "      <td>0</td>\n",
       "      <td>0</td>\n",
       "      <td>-1.691339</td>\n",
       "      <td>1</td>\n",
       "      <td>50</td>\n",
       "      <td>1</td>\n",
       "      <td>2</td>\n",
       "      <td>30000</td>\n",
       "      <td>1</td>\n",
       "      <td>3</td>\n",
       "      <td>Y</td>\n",
       "    </tr>\n",
       "    <tr>\n",
       "      <th>3</th>\n",
       "      <td>26883</td>\n",
       "      <td>03FEB2014</td>\n",
       "      <td>SCH</td>\n",
       "      <td>M</td>\n",
       "      <td>56</td>\n",
       "      <td>N</td>\n",
       "      <td>N</td>\n",
       "      <td>0</td>\n",
       "      <td>0</td>\n",
       "      <td>-2.374182</td>\n",
       "      <td>1</td>\n",
       "      <td>40</td>\n",
       "      <td>1</td>\n",
       "      <td>2</td>\n",
       "      <td>17000</td>\n",
       "      <td>1</td>\n",
       "      <td>3</td>\n",
       "      <td>N</td>\n",
       "    </tr>\n",
       "    <tr>\n",
       "      <th>4</th>\n",
       "      <td>28862</td>\n",
       "      <td>04FEB2014</td>\n",
       "      <td>GRD</td>\n",
       "      <td>F</td>\n",
       "      <td>38</td>\n",
       "      <td>N</td>\n",
       "      <td>N</td>\n",
       "      <td>0</td>\n",
       "      <td>0</td>\n",
       "      <td>-2.487502</td>\n",
       "      <td>0</td>\n",
       "      <td>80</td>\n",
       "      <td>2</td>\n",
       "      <td>3</td>\n",
       "      <td>120000</td>\n",
       "      <td>1</td>\n",
       "      <td>3</td>\n",
       "      <td>N</td>\n",
       "    </tr>\n",
       "  </tbody>\n",
       "</table>\n",
       "</div>"
      ],
      "text/plain": [
       "   client_id   app_date education sex  age car car_type  decline_app_cnt  \\\n",
       "0      74835  22MAR2014       GRD   M   29   Y        Y                0   \n",
       "1      17527  24JAN2014       SCH   F   39   N        N                5   \n",
       "2      75683  23MAR2014       UGR   M   50   Y        Y                0   \n",
       "3      26883  03FEB2014       SCH   M   56   N        N                0   \n",
       "4      28862  04FEB2014       GRD   F   38   N        N                0   \n",
       "\n",
       "   good_work  score_bki  bki_request_cnt  region_rating  home_address  \\\n",
       "0          0  -2.271884                3             50             1   \n",
       "1          0  -1.504999                2             50             1   \n",
       "2          0  -1.691339                1             50             1   \n",
       "3          0  -2.374182                1             40             1   \n",
       "4          0  -2.487502                0             80             2   \n",
       "\n",
       "   work_address  income  sna  first_time foreign_passport  \n",
       "0             2   50000    1           4                N  \n",
       "1             2    5000    4           3                N  \n",
       "2             2   30000    1           3                Y  \n",
       "3             2   17000    1           3                N  \n",
       "4             3  120000    1           3                N  "
      ]
     },
     "execution_count": 6,
     "metadata": {},
     "output_type": "execute_result"
    }
   ],
   "source": [
    "print(test.info())\n",
    "print('Test size: ', train.shape)\n",
    "test.head(5)"
   ]
  },
  {
   "cell_type": "code",
   "execution_count": 7,
   "metadata": {
    "execution": {
     "iopub.execute_input": "2021-03-05T18:56:26.526718Z",
     "iopub.status.busy": "2021-03-05T18:56:26.526059Z",
     "iopub.status.idle": "2021-03-05T18:56:26.530665Z",
     "shell.execute_reply": "2021-03-05T18:56:26.531115Z"
    },
    "papermill": {
     "duration": 0.072219,
     "end_time": "2021-03-05T18:56:26.531286",
     "exception": false,
     "start_time": "2021-03-05T18:56:26.459067",
     "status": "completed"
    },
    "tags": []
   },
   "outputs": [
    {
     "name": "stdout",
     "output_type": "stream",
     "text": [
      "<class 'pandas.core.frame.DataFrame'>\n",
      "RangeIndex: 24354 entries, 0 to 24353\n",
      "Data columns (total 2 columns):\n",
      " #   Column     Non-Null Count  Dtype  \n",
      "---  ------     --------------  -----  \n",
      " 0   client_id  24354 non-null  int64  \n",
      " 1   default    24354 non-null  float64\n",
      "dtypes: float64(1), int64(1)\n",
      "memory usage: 380.7 KB\n",
      "None\n",
      "(24354, 2)\n"
     ]
    },
    {
     "data": {
      "text/html": [
       "<div>\n",
       "<style scoped>\n",
       "    .dataframe tbody tr th:only-of-type {\n",
       "        vertical-align: middle;\n",
       "    }\n",
       "\n",
       "    .dataframe tbody tr th {\n",
       "        vertical-align: top;\n",
       "    }\n",
       "\n",
       "    .dataframe thead th {\n",
       "        text-align: right;\n",
       "    }\n",
       "</style>\n",
       "<table border=\"1\" class=\"dataframe\">\n",
       "  <thead>\n",
       "    <tr style=\"text-align: right;\">\n",
       "      <th></th>\n",
       "      <th>client_id</th>\n",
       "      <th>default</th>\n",
       "    </tr>\n",
       "  </thead>\n",
       "  <tbody>\n",
       "    <tr>\n",
       "      <th>0</th>\n",
       "      <td>66799</td>\n",
       "      <td>0.441004</td>\n",
       "    </tr>\n",
       "    <tr>\n",
       "      <th>1</th>\n",
       "      <td>25379</td>\n",
       "      <td>0.138092</td>\n",
       "    </tr>\n",
       "    <tr>\n",
       "      <th>2</th>\n",
       "      <td>28825</td>\n",
       "      <td>0.373370</td>\n",
       "    </tr>\n",
       "    <tr>\n",
       "      <th>3</th>\n",
       "      <td>37530</td>\n",
       "      <td>0.476501</td>\n",
       "    </tr>\n",
       "    <tr>\n",
       "      <th>4</th>\n",
       "      <td>4264</td>\n",
       "      <td>0.304640</td>\n",
       "    </tr>\n",
       "  </tbody>\n",
       "</table>\n",
       "</div>"
      ],
      "text/plain": [
       "   client_id   default\n",
       "0      66799  0.441004\n",
       "1      25379  0.138092\n",
       "2      28825  0.373370\n",
       "3      37530  0.476501\n",
       "4       4264  0.304640"
      ]
     },
     "execution_count": 7,
     "metadata": {},
     "output_type": "execute_result"
    }
   ],
   "source": [
    "print(sample.info())\n",
    "print(sample.shape)\n",
    "sample.head(5)"
   ]
  },
  {
   "cell_type": "code",
   "execution_count": 8,
   "metadata": {
    "execution": {
     "iopub.execute_input": "2021-03-05T18:56:26.639400Z",
     "iopub.status.busy": "2021-03-05T18:56:26.638628Z",
     "iopub.status.idle": "2021-03-05T18:56:26.794928Z",
     "shell.execute_reply": "2021-03-05T18:56:26.795608Z"
    },
    "papermill": {
     "duration": 0.212924,
     "end_time": "2021-03-05T18:56:26.795838",
     "exception": false,
     "start_time": "2021-03-05T18:56:26.582914",
     "status": "completed"
    },
    "tags": []
   },
   "outputs": [
    {
     "name": "stderr",
     "output_type": "stream",
     "text": [
      "/opt/conda/lib/python3.7/site-packages/seaborn/_decorators.py:43: FutureWarning: Pass the following variable as a keyword arg: x. From version 0.12, the only valid positional argument will be `data`, and passing other arguments without an explicit keyword will result in an error or misinterpretation.\n",
      "  FutureWarning\n"
     ]
    },
    {
     "data": {
      "image/png": "[encoded data removed]",
      "text/plain": [
       "<Figure size 432x288 with 1 Axes>"
      ]
     },
     "metadata": {
      "needs_background": "light"
     },
     "output_type": "display_data"
    }
   ],
   "source": [
    "# Let's look at default count\n",
    "plot = sns.countplot(train['default'])"
   ]
  },
  {
   "cell_type": "markdown",
   "metadata": {
    "papermill": {
     "duration": 0.053433,
     "end_time": "2021-03-05T18:56:26.903126",
     "exception": false,
     "start_time": "2021-03-05T18:56:26.849693",
     "status": "completed"
    },
    "tags": []
   },
   "source": [
    "Hmm.. there are way more clients who go into default"
   ]
  },
  {
   "cell_type": "code",
   "execution_count": 9,
   "metadata": {
    "execution": {
     "iopub.execute_input": "2021-03-05T18:56:27.016398Z",
     "iopub.status.busy": "2021-03-05T18:56:27.015752Z",
     "iopub.status.idle": "2021-03-05T18:56:27.064963Z",
     "shell.execute_reply": "2021-03-05T18:56:27.064412Z"
    },
    "papermill": {
     "duration": 0.109169,
     "end_time": "2021-03-05T18:56:27.065122",
     "exception": false,
     "start_time": "2021-03-05T18:56:26.955953",
     "status": "completed"
    },
    "tags": []
   },
   "outputs": [],
   "source": [
    "# Unite datasets to ease the preprocessing\n",
    "train['sample'] = 1   # train\n",
    "test['sample'] = 0    # test\n",
    "test['default'] = -1  # imaginary value for now\n",
    "data = train.append(test, sort=False).reset_index(drop=True)"
   ]
  },
  {
   "cell_type": "code",
   "execution_count": 10,
   "metadata": {
    "execution": {
     "iopub.execute_input": "2021-03-05T18:56:27.232670Z",
     "iopub.status.busy": "2021-03-05T18:56:27.210361Z",
     "iopub.status.idle": "2021-03-05T18:56:27.262187Z",
     "shell.execute_reply": "2021-03-05T18:56:27.261578Z"
    },
    "papermill": {
     "duration": 0.143131,
     "end_time": "2021-03-05T18:56:27.262326",
     "exception": false,
     "start_time": "2021-03-05T18:56:27.119195",
     "status": "completed"
    },
    "tags": []
   },
   "outputs": [
    {
     "name": "stdout",
     "output_type": "stream",
     "text": [
      "<class 'pandas.core.frame.DataFrame'>\n",
      "RangeIndex: 110148 entries, 0 to 110147\n",
      "Data columns (total 20 columns):\n",
      " #   Column            Non-Null Count   Dtype  \n",
      "---  ------            --------------   -----  \n",
      " 0   client_id         110148 non-null  int64  \n",
      " 1   app_date          110148 non-null  object \n",
      " 2   education         109670 non-null  object \n",
      " 3   sex               110148 non-null  object \n",
      " 4   age               110148 non-null  int64  \n",
      " 5   car               110148 non-null  object \n",
      " 6   car_type          110148 non-null  object \n",
      " 7   decline_app_cnt   110148 non-null  int64  \n",
      " 8   good_work         110148 non-null  int64  \n",
      " 9   score_bki         110148 non-null  float64\n",
      " 10  bki_request_cnt   110148 non-null  int64  \n",
      " 11  region_rating     110148 non-null  int64  \n",
      " 12  home_address      110148 non-null  int64  \n",
      " 13  work_address      110148 non-null  int64  \n",
      " 14  income            110148 non-null  int64  \n",
      " 15  sna               110148 non-null  int64  \n",
      " 16  first_time        110148 non-null  int64  \n",
      " 17  foreign_passport  110148 non-null  object \n",
      " 18  default           110148 non-null  int64  \n",
      " 19  sample            110148 non-null  int64  \n",
      "dtypes: float64(1), int64(13), object(6)\n",
      "memory usage: 16.8+ MB\n",
      "None\n"
     ]
    },
    {
     "data": {
      "text/plain": [
       "(110148, 20)"
      ]
     },
     "execution_count": 10,
     "metadata": {},
     "output_type": "execute_result"
    }
   ],
   "source": [
    "print(data.info())\n",
    "data.shape"
   ]
  },
  {
   "cell_type": "markdown",
   "metadata": {
    "papermill": {
     "duration": 0.053465,
     "end_time": "2021-03-05T18:56:27.369590",
     "exception": false,
     "start_time": "2021-03-05T18:56:27.316125",
     "status": "completed"
    },
    "tags": []
   },
   "source": [
    "## *Data Description:*\n",
    "client_id - identification\n",
    "\n",
    "education - education level\n",
    "\n",
    "sex - sex\n",
    "\n",
    "age - age\n",
    "\n",
    "car - binary/ has a car or not\n",
    "\n",
    "car_type - whether car is international\n",
    "\n",
    "decline_app_cnt - declined application count in the past\n",
    "\n",
    "good_work - binary/ has 'good' work or not\n",
    "\n",
    "bki_request_cnt - requests to BKI\n",
    "\n",
    "home_address - category of home address\n",
    "\n",
    "work_address - category of work address\n",
    "\n",
    "income - income\n",
    "\n",
    "foreign_passport - binary/ has foreign passport\n",
    "\n",
    "sna - connection with bank employee\n",
    "\n",
    "first_time - age of information about the client\n",
    "\n",
    "score_bki - BKI score\n",
    "\n",
    "region_rating - region rating\n",
    "\n",
    "app_date - application date\n",
    "\n",
    "default - default flag"
   ]
  },
  {
   "cell_type": "markdown",
   "metadata": {
    "papermill": {
     "duration": 0.053443,
     "end_time": "2021-03-05T18:56:27.476868",
     "exception": false,
     "start_time": "2021-03-05T18:56:27.423425",
     "status": "completed"
    },
    "tags": []
   },
   "source": [
    "# EDA"
   ]
  },
  {
   "cell_type": "code",
   "execution_count": 11,
   "metadata": {
    "execution": {
     "iopub.execute_input": "2021-03-05T18:56:27.589768Z",
     "iopub.status.busy": "2021-03-05T18:56:27.589180Z",
     "iopub.status.idle": "2021-03-05T18:56:27.592312Z",
     "shell.execute_reply": "2021-03-05T18:56:27.591709Z"
    },
    "papermill": {
     "duration": 0.061789,
     "end_time": "2021-03-05T18:56:27.592442",
     "exception": false,
     "start_time": "2021-03-05T18:56:27.530653",
     "status": "completed"
    },
    "tags": []
   },
   "outputs": [],
   "source": [
    "num_cols = ['age','decline_app_cnt','score_bki','income','bki_request_cnt','region_rating'] \n",
    "cat_cols = ['education','work_address','home_address','sna','first_time'] \n",
    "bin_cols = ['sex','car','car_type','good_work','foreign_passport'] "
   ]
  },
  {
   "cell_type": "markdown",
   "metadata": {
    "papermill": {
     "duration": 0.053548,
     "end_time": "2021-03-05T18:56:27.699972",
     "exception": false,
     "start_time": "2021-03-05T18:56:27.646424",
     "status": "completed"
    },
    "tags": []
   },
   "source": [
    "# *Numerical*"
   ]
  },
  {
   "cell_type": "code",
   "execution_count": 12,
   "metadata": {
    "execution": {
     "iopub.execute_input": "2021-03-05T18:56:27.854632Z",
     "iopub.status.busy": "2021-03-05T18:56:27.853614Z",
     "iopub.status.idle": "2021-03-05T18:56:29.659353Z",
     "shell.execute_reply": "2021-03-05T18:56:29.659803Z"
    },
    "papermill": {
     "duration": 1.906002,
     "end_time": "2021-03-05T18:56:29.659978",
     "exception": false,
     "start_time": "2021-03-05T18:56:27.753976",
     "status": "completed"
    },
    "tags": []
   },
   "outputs": [
    {
     "name": "stderr",
     "output_type": "stream",
     "text": [
      "/opt/conda/lib/python3.7/site-packages/seaborn/distributions.py:2557: FutureWarning: `distplot` is a deprecated function and will be removed in a future version. Please adapt your code to use either `displot` (a figure-level function with similar flexibility) or `histplot` (an axes-level function for histograms).\n",
      "  warnings.warn(msg, FutureWarning)\n"
     ]
    },
    {
     "data": {
      "image/png": "[encoded data removed]",
      "text/plain": [
       "<Figure size 1800x1080 with 6 Axes>"
      ]
     },
     "metadata": {
      "needs_background": "light"
     },
     "output_type": "display_data"
    }
   ],
   "source": [
    "# Let's look at numerical data\n",
    "fig, axes = plt.subplots(2, 3, figsize=(25,15))\n",
    "\n",
    "for i,col in enumerate(num_cols):\n",
    "    sns.distplot(data[col], kde=False, ax=axes.flat[i], color=\"r\")"
   ]
  },
  {
   "cell_type": "markdown",
   "metadata": {
    "papermill": {
     "duration": 0.055831,
     "end_time": "2021-03-05T18:56:29.771574",
     "exception": false,
     "start_time": "2021-03-05T18:56:29.715743",
     "status": "completed"
    },
    "tags": []
   },
   "source": [
    "### Hmm.. distribution is skewed to the left for some variables, lets apply log function to them"
   ]
  },
  {
   "cell_type": "code",
   "execution_count": 13,
   "metadata": {
    "execution": {
     "iopub.execute_input": "2021-03-05T18:56:29.887948Z",
     "iopub.status.busy": "2021-03-05T18:56:29.886985Z",
     "iopub.status.idle": "2021-03-05T18:56:30.616866Z",
     "shell.execute_reply": "2021-03-05T18:56:30.617369Z"
    },
    "papermill": {
     "duration": 0.78977,
     "end_time": "2021-03-05T18:56:30.617575",
     "exception": false,
     "start_time": "2021-03-05T18:56:29.827805",
     "status": "completed"
    },
    "tags": []
   },
   "outputs": [
    {
     "name": "stderr",
     "output_type": "stream",
     "text": [
      "/opt/conda/lib/python3.7/site-packages/seaborn/distributions.py:2557: FutureWarning: `distplot` is a deprecated function and will be removed in a future version. Please adapt your code to use either `displot` (a figure-level function with similar flexibility) or `histplot` (an axes-level function for histograms).\n",
      "  warnings.warn(msg, FutureWarning)\n",
      "/opt/conda/lib/python3.7/site-packages/seaborn/distributions.py:2557: FutureWarning: `distplot` is a deprecated function and will be removed in a future version. Please adapt your code to use either `displot` (a figure-level function with similar flexibility) or `histplot` (an axes-level function for histograms).\n",
      "  warnings.warn(msg, FutureWarning)\n",
      "/opt/conda/lib/python3.7/site-packages/seaborn/distributions.py:2557: FutureWarning: `distplot` is a deprecated function and will be removed in a future version. Please adapt your code to use either `displot` (a figure-level function with similar flexibility) or `histplot` (an axes-level function for histograms).\n",
      "  warnings.warn(msg, FutureWarning)\n"
     ]
    },
    {
     "data": {
      "image/png": "[encoded data removed]",
      "text/plain": [
       "<Figure size 720x504 with 3 Axes>"
      ]
     },
     "metadata": {
      "needs_background": "light"
     },
     "output_type": "display_data"
    }
   ],
   "source": [
    "fig, axes = plt.subplots(1, 3, figsize=(10,7))\n",
    "for i,col in enumerate(['decline_app_cnt', 'bki_request_cnt', 'income']):\n",
    "    data[col] = np.log(data[col] + 1)\n",
    "    sns.distplot(data[col][data[col] > 0].dropna(), ax=axes.flat[i],kde = False, rug=False,color=\"r\")\n",
    "    \n",
    "    "
   ]
  },
  {
   "cell_type": "markdown",
   "metadata": {
    "papermill": {
     "duration": 0.057276,
     "end_time": "2021-03-05T18:56:30.732045",
     "exception": false,
     "start_time": "2021-03-05T18:56:30.674769",
     "status": "completed"
    },
    "tags": []
   },
   "source": [
    "## We can notice some outliers, but the distribution is normal now"
   ]
  },
  {
   "cell_type": "code",
   "execution_count": 14,
   "metadata": {
    "execution": {
     "iopub.execute_input": "2021-03-05T18:56:30.875413Z",
     "iopub.status.busy": "2021-03-05T18:56:30.873535Z",
     "iopub.status.idle": "2021-03-05T18:56:31.940166Z",
     "shell.execute_reply": "2021-03-05T18:56:31.939525Z"
    },
    "papermill": {
     "duration": 1.15108,
     "end_time": "2021-03-05T18:56:31.940312",
     "exception": false,
     "start_time": "2021-03-05T18:56:30.789232",
     "status": "completed"
    },
    "tags": []
   },
   "outputs": [
    {
     "data": {
      "image/png": "[encoded data removed]",
      "text/plain": [
       "<Figure size 1008x288 with 1 Axes>"
      ]
     },
     "metadata": {
      "needs_background": "light"
     },
     "output_type": "display_data"
    },
    {
     "data": {
      "image/png": "[encoded data removed]",
      "text/plain": [
       "<Figure size 1008x288 with 1 Axes>"
      ]
     },
     "metadata": {
      "needs_background": "light"
     },
     "output_type": "display_data"
    },
    {
     "data": {
      "image/png": "[encoded data removed]",
      "text/plain": [
       "<Figure size 1008x288 with 1 Axes>"
      ]
     },
     "metadata": {
      "needs_background": "light"
     },
     "output_type": "display_data"
    },
    {
     "data": {
      "image/png": "[encoded data removed]",
      "text/plain": [
       "<Figure size 1008x288 with 1 Axes>"
      ]
     },
     "metadata": {
      "needs_background": "light"
     },
     "output_type": "display_data"
    },
    {
     "data": {
      "image/png": "[encoded data removed]",
      "text/plain": [
       "<Figure size 1008x288 with 1 Axes>"
      ]
     },
     "metadata": {
      "needs_background": "light"
     },
     "output_type": "display_data"
    },
    {
     "data": {
      "image/png": "[encoded data removed]",
      "text/plain": [
       "<Figure size 1008x288 with 1 Axes>"
      ]
     },
     "metadata": {
      "needs_background": "light"
     },
     "output_type": "display_data"
    }
   ],
   "source": [
    "def boxplot(col):\n",
    "    fig, axes = plt.subplots(figsize = (14, 4))\n",
    "    sns.boxplot(x='default', y=col, data=data[data['sample']==1],ax=axes)\n",
    "    axes.set_title('Boxplot for ' + col)\n",
    "    plt.show()\n",
    "for col in num_cols:\n",
    "    boxplot(col)"
   ]
  },
  {
   "cell_type": "markdown",
   "metadata": {
    "papermill": {
     "duration": 0.060847,
     "end_time": "2021-03-05T18:56:32.063395",
     "exception": false,
     "start_time": "2021-03-05T18:56:32.002548",
     "status": "completed"
    },
    "tags": []
   },
   "source": [
    "## What can we see here?\n",
    "\n",
    "* people who do not default, generally, older.\n",
    "\n",
    "* people who default have higher scoring.\n",
    "\n",
    "* Region rating affects default.\n",
    "\n",
    "* BKI requests are higher in people who do not default.\n",
    "\n",
    "* On average, people who do not default have higher income."
   ]
  },
  {
   "cell_type": "markdown",
   "metadata": {
    "papermill": {
     "duration": 0.061007,
     "end_time": "2021-03-05T18:56:32.186391",
     "exception": false,
     "start_time": "2021-03-05T18:56:32.125384",
     "status": "completed"
    },
    "tags": []
   },
   "source": [
    "# *Categorical*"
   ]
  },
  {
   "cell_type": "code",
   "execution_count": 15,
   "metadata": {
    "execution": {
     "iopub.execute_input": "2021-03-05T18:56:32.343845Z",
     "iopub.status.busy": "2021-03-05T18:56:32.341113Z",
     "iopub.status.idle": "2021-03-05T18:56:32.508237Z",
     "shell.execute_reply": "2021-03-05T18:56:32.507612Z"
    },
    "papermill": {
     "duration": 0.260728,
     "end_time": "2021-03-05T18:56:32.508376",
     "exception": false,
     "start_time": "2021-03-05T18:56:32.247648",
     "status": "completed"
    },
    "tags": []
   },
   "outputs": [
    {
     "name": "stdout",
     "output_type": "stream",
     "text": [
      "Missing education values:\n",
      " 478\n"
     ]
    },
    {
     "data": {
      "image/png": "[encoded data removed]",
      "text/plain": [
       "<Figure size 576x432 with 1 Axes>"
      ]
     },
     "metadata": {
      "needs_background": "light"
     },
     "output_type": "display_data"
    }
   ],
   "source": [
    "data.education.value_counts().plot(kind=\"bar\",figsize=(8,6),color=\"r\")\n",
    "print(\"Missing education values:\\n\",data.education.isna().sum())"
   ]
  },
  {
   "cell_type": "code",
   "execution_count": 16,
   "metadata": {
    "execution": {
     "iopub.execute_input": "2021-03-05T18:56:32.651245Z",
     "iopub.status.busy": "2021-03-05T18:56:32.650223Z",
     "iopub.status.idle": "2021-03-05T18:56:32.656049Z",
     "shell.execute_reply": "2021-03-05T18:56:32.655445Z"
    },
    "papermill": {
     "duration": 0.084927,
     "end_time": "2021-03-05T18:56:32.656213",
     "exception": false,
     "start_time": "2021-03-05T18:56:32.571286",
     "status": "completed"
    },
    "tags": []
   },
   "outputs": [],
   "source": [
    "data.education = data.education.fillna(\"SCH\") # replace with the most common"
   ]
  },
  {
   "cell_type": "markdown",
   "metadata": {
    "papermill": {
     "duration": 0.06266,
     "end_time": "2021-03-05T18:56:32.782046",
     "exception": false,
     "start_time": "2021-03-05T18:56:32.719386",
     "status": "completed"
    },
    "tags": []
   },
   "source": [
    "Смотрим зависимость дохода от уровня образования"
   ]
  },
  {
   "cell_type": "code",
   "execution_count": 17,
   "metadata": {
    "execution": {
     "iopub.execute_input": "2021-03-05T18:56:32.940198Z",
     "iopub.status.busy": "2021-03-05T18:56:32.926825Z",
     "iopub.status.idle": "2021-03-05T18:56:33.210806Z",
     "shell.execute_reply": "2021-03-05T18:56:33.210208Z"
    },
    "papermill": {
     "duration": 0.365166,
     "end_time": "2021-03-05T18:56:33.210966",
     "exception": false,
     "start_time": "2021-03-05T18:56:32.845800",
     "status": "completed"
    },
    "tags": []
   },
   "outputs": [
    {
     "data": {
      "text/plain": [
       "<AxesSubplot:xlabel='education', ylabel='income'>"
      ]
     },
     "execution_count": 17,
     "metadata": {},
     "output_type": "execute_result"
    },
    {
     "data": {
      "image/png": "[encoded data removed]",
      "text/plain": [
       "<Figure size 1080x576 with 1 Axes>"
      ]
     },
     "metadata": {
      "needs_background": "light"
     },
     "output_type": "display_data"
    }
   ],
   "source": [
    "plt.figure(figsize=(15, 8))\n",
    "sns.boxplot(x=\"education\", y=\"income\", data=data, showfliers=False)"
   ]
  },
  {
   "cell_type": "code",
   "execution_count": 18,
   "metadata": {
    "execution": {
     "iopub.execute_input": "2021-03-05T18:56:33.347330Z",
     "iopub.status.busy": "2021-03-05T18:56:33.346071Z",
     "iopub.status.idle": "2021-03-05T18:56:35.074527Z",
     "shell.execute_reply": "2021-03-05T18:56:35.075014Z"
    },
    "papermill": {
     "duration": 1.799388,
     "end_time": "2021-03-05T18:56:35.075217",
     "exception": false,
     "start_time": "2021-03-05T18:56:33.275829",
     "status": "completed"
    },
    "tags": []
   },
   "outputs": [
    {
     "data": {
      "text/plain": [
       "<AxesSubplot:>"
      ]
     },
     "execution_count": 18,
     "metadata": {},
     "output_type": "execute_result"
    },
    {
     "data": {
      "image/png": "[encoded data removed]",
      "text/plain": [
       "<Figure size 1080x720 with 2 Axes>"
      ]
     },
     "metadata": {
      "needs_background": "light"
     },
     "output_type": "display_data"
    }
   ],
   "source": [
    "plt.rcParams['figure.figsize'] = (15,10)\n",
    "sns.heatmap(data.corr(), vmin=0, vmax=1, annot = True)"
   ]
  },
  {
   "cell_type": "markdown",
   "metadata": {
    "papermill": {
     "duration": 0.067257,
     "end_time": "2021-03-05T18:56:35.212397",
     "exception": false,
     "start_time": "2021-03-05T18:56:35.145140",
     "status": "completed"
    },
    "tags": []
   },
   "source": [
    "### We do not have any extreme multicollinerality"
   ]
  },
  {
   "cell_type": "markdown",
   "metadata": {
    "papermill": {
     "duration": 0.067337,
     "end_time": "2021-03-05T18:56:35.347586",
     "exception": false,
     "start_time": "2021-03-05T18:56:35.280249",
     "status": "completed"
    },
    "tags": []
   },
   "source": [
    "# *Feature engineering*"
   ]
  },
  {
   "cell_type": "code",
   "execution_count": 19,
   "metadata": {
    "execution": {
     "iopub.execute_input": "2021-03-05T18:56:35.495096Z",
     "iopub.status.busy": "2021-03-05T18:56:35.494389Z",
     "iopub.status.idle": "2021-03-05T18:57:20.368064Z",
     "shell.execute_reply": "2021-03-05T18:57:20.367409Z"
    },
    "papermill": {
     "duration": 44.952923,
     "end_time": "2021-03-05T18:57:20.368239",
     "exception": false,
     "start_time": "2021-03-05T18:56:35.415316",
     "status": "completed"
    },
    "tags": []
   },
   "outputs": [],
   "source": [
    "data['app_date'] = pd.to_datetime(data.app_date)\n",
    "data['app_date'] = data['app_date'].apply(lambda x: (x - data['app_date'].min()).days) # days from the first date"
   ]
  },
  {
   "cell_type": "code",
   "execution_count": 20,
   "metadata": {
    "execution": {
     "iopub.execute_input": "2021-03-05T18:57:20.509343Z",
     "iopub.status.busy": "2021-03-05T18:57:20.508683Z",
     "iopub.status.idle": "2021-03-05T18:57:20.516903Z",
     "shell.execute_reply": "2021-03-05T18:57:20.516343Z"
    },
    "papermill": {
     "duration": 0.080453,
     "end_time": "2021-03-05T18:57:20.517045",
     "exception": false,
     "start_time": "2021-03-05T18:57:20.436592",
     "status": "completed"
    },
    "tags": []
   },
   "outputs": [],
   "source": [
    "df = data.copy()"
   ]
  },
  {
   "cell_type": "code",
   "execution_count": 21,
   "metadata": {
    "execution": {
     "iopub.execute_input": "2021-03-05T18:57:20.659265Z",
     "iopub.status.busy": "2021-03-05T18:57:20.658580Z",
     "iopub.status.idle": "2021-03-05T18:57:20.666678Z",
     "shell.execute_reply": "2021-03-05T18:57:20.665958Z"
    },
    "papermill": {
     "duration": 0.081917,
     "end_time": "2021-03-05T18:57:20.666828",
     "exception": false,
     "start_time": "2021-03-05T18:57:20.584911",
     "status": "completed"
    },
    "tags": []
   },
   "outputs": [],
   "source": [
    "# mean income by age\n",
    "mean_income = df.groupby('age')['income'].mean().to_dict()\n",
    "df['mean_income_age'] = df['age'].map(mean_income)"
   ]
  },
  {
   "cell_type": "code",
   "execution_count": 22,
   "metadata": {
    "execution": {
     "iopub.execute_input": "2021-03-05T18:57:20.811036Z",
     "iopub.status.busy": "2021-03-05T18:57:20.810406Z",
     "iopub.status.idle": "2021-03-05T18:57:20.820883Z",
     "shell.execute_reply": "2021-03-05T18:57:20.820223Z"
    },
    "papermill": {
     "duration": 0.085805,
     "end_time": "2021-03-05T18:57:20.821036",
     "exception": false,
     "start_time": "2021-03-05T18:57:20.735231",
     "status": "completed"
    },
    "tags": []
   },
   "outputs": [],
   "source": [
    "# Max income by age\n",
    "max_income = df.groupby('age')['income'].max().to_dict()\n",
    "df['max_income_age'] = df['age'].map(max_income)"
   ]
  },
  {
   "cell_type": "code",
   "execution_count": 23,
   "metadata": {
    "execution": {
     "iopub.execute_input": "2021-03-05T18:57:20.965662Z",
     "iopub.status.busy": "2021-03-05T18:57:20.964781Z",
     "iopub.status.idle": "2021-03-05T18:57:20.970792Z",
     "shell.execute_reply": "2021-03-05T18:57:20.970174Z"
    },
    "papermill": {
     "duration": 0.081084,
     "end_time": "2021-03-05T18:57:20.970928",
     "exception": false,
     "start_time": "2021-03-05T18:57:20.889844",
     "status": "completed"
    },
    "tags": []
   },
   "outputs": [],
   "source": [
    "# and normalize it\n",
    "df[\"normalized_income\"] = abs((df.income - df.mean_income_age)/df.max_income_age)"
   ]
  },
  {
   "cell_type": "code",
   "execution_count": 24,
   "metadata": {
    "execution": {
     "iopub.execute_input": "2021-03-05T18:57:21.115649Z",
     "iopub.status.busy": "2021-03-05T18:57:21.114894Z",
     "iopub.status.idle": "2021-03-05T18:57:21.122775Z",
     "shell.execute_reply": "2021-03-05T18:57:21.122116Z"
    },
    "papermill": {
     "duration": 0.083463,
     "end_time": "2021-03-05T18:57:21.122917",
     "exception": false,
     "start_time": "2021-03-05T18:57:21.039454",
     "status": "completed"
    },
    "tags": []
   },
   "outputs": [],
   "source": [
    "# requests to BKI by age\n",
    "mean_bki = df.groupby('age')['bki_request_cnt'].mean().to_dict()\n",
    "df['mean_requests_age'] = df['age'].map(mean_bki)"
   ]
  },
  {
   "cell_type": "code",
   "execution_count": 25,
   "metadata": {
    "execution": {
     "iopub.execute_input": "2021-03-05T18:57:21.267401Z",
     "iopub.status.busy": "2021-03-05T18:57:21.266751Z",
     "iopub.status.idle": "2021-03-05T18:57:21.278037Z",
     "shell.execute_reply": "2021-03-05T18:57:21.277457Z"
    },
    "papermill": {
     "duration": 0.085475,
     "end_time": "2021-03-05T18:57:21.278205",
     "exception": false,
     "start_time": "2021-03-05T18:57:21.192730",
     "status": "completed"
    },
    "tags": []
   },
   "outputs": [],
   "source": [
    "# mean BKI requests by income\n",
    "mean_bki_inc = df.groupby('income')['bki_request_cnt'].mean().to_dict()\n",
    "df['mean_requests_income'] = df['income'].map(mean_bki_inc)"
   ]
  },
  {
   "cell_type": "code",
   "execution_count": 26,
   "metadata": {
    "execution": {
     "iopub.execute_input": "2021-03-05T18:57:21.422620Z",
     "iopub.status.busy": "2021-03-05T18:57:21.421909Z",
     "iopub.status.idle": "2021-03-05T18:57:21.429612Z",
     "shell.execute_reply": "2021-03-05T18:57:21.428933Z"
    },
    "papermill": {
     "duration": 0.082808,
     "end_time": "2021-03-05T18:57:21.429852",
     "exception": false,
     "start_time": "2021-03-05T18:57:21.347044",
     "status": "completed"
    },
    "tags": []
   },
   "outputs": [],
   "source": [
    "# Mean income by region\n",
    "mean_income_rat = df.groupby('region_rating')['income'].mean().to_dict()\n",
    "df['mean_income_region'] = df['region_rating'].map(mean_income_rat)"
   ]
  },
  {
   "cell_type": "markdown",
   "metadata": {
    "papermill": {
     "duration": 0.068868,
     "end_time": "2021-03-05T18:57:21.567184",
     "exception": false,
     "start_time": "2021-03-05T18:57:21.498316",
     "status": "completed"
    },
    "tags": []
   },
   "source": [
    "### Encoding"
   ]
  },
  {
   "cell_type": "code",
   "execution_count": 27,
   "metadata": {
    "execution": {
     "iopub.execute_input": "2021-03-05T18:57:21.751557Z",
     "iopub.status.busy": "2021-03-05T18:57:21.750824Z",
     "iopub.status.idle": "2021-03-05T18:57:21.887255Z",
     "shell.execute_reply": "2021-03-05T18:57:21.886553Z"
    },
    "papermill": {
     "duration": 0.250666,
     "end_time": "2021-03-05T18:57:21.887402",
     "exception": false,
     "start_time": "2021-03-05T18:57:21.636736",
     "status": "completed"
    },
    "tags": []
   },
   "outputs": [],
   "source": [
    "mapp = {}\n",
    "label_encoder = LabelEncoder()\n",
    "for col in bin_cols:\n",
    "    df[col] = label_encoder.fit_transform(df[col])\n",
    "    mapp[col] = dict(enumerate(label_encoder.classes_))"
   ]
  },
  {
   "cell_type": "code",
   "execution_count": 28,
   "metadata": {
    "execution": {
     "iopub.execute_input": "2021-03-05T18:57:22.042139Z",
     "iopub.status.busy": "2021-03-05T18:57:22.036772Z",
     "iopub.status.idle": "2021-03-05T18:57:22.095911Z",
     "shell.execute_reply": "2021-03-05T18:57:22.095275Z"
    },
    "papermill": {
     "duration": 0.139521,
     "end_time": "2021-03-05T18:57:22.096054",
     "exception": false,
     "start_time": "2021-03-05T18:57:21.956533",
     "status": "completed"
    },
    "tags": []
   },
   "outputs": [],
   "source": [
    "mappc = {}\n",
    "enc = OneHotEncoder()\n",
    "for col in cat_cols:\n",
    "    df[col] = label_encoder.fit_transform(df[col])\n",
    "    mappc[col] = dict(enumerate(label_encoder.classes_))\n"
   ]
  },
  {
   "cell_type": "code",
   "execution_count": 29,
   "metadata": {
    "execution": {
     "iopub.execute_input": "2021-03-05T18:57:22.241019Z",
     "iopub.status.busy": "2021-03-05T18:57:22.240379Z",
     "iopub.status.idle": "2021-03-05T18:57:22.244892Z",
     "shell.execute_reply": "2021-03-05T18:57:22.245690Z"
    },
    "papermill": {
     "duration": 0.079932,
     "end_time": "2021-03-05T18:57:22.245947",
     "exception": false,
     "start_time": "2021-03-05T18:57:22.166015",
     "status": "completed"
    },
    "tags": []
   },
   "outputs": [
    {
     "name": "stdout",
     "output_type": "stream",
     "text": [
      "{'sex': {0: 'F', 1: 'M'}, 'car': {0: 'N', 1: 'Y'}, 'car_type': {0: 'N', 1: 'Y'}, 'good_work': {0: 0, 1: 1}, 'foreign_passport': {0: 'N', 1: 'Y'}}\n",
      "{'education': {0: 'ACD', 1: 'GRD', 2: 'PGR', 3: 'SCH', 4: 'UGR'}, 'work_address': {0: 1, 1: 2, 2: 3}, 'home_address': {0: 1, 1: 2, 2: 3}, 'sna': {0: 1, 1: 2, 2: 3, 3: 4}, 'first_time': {0: 1, 1: 2, 2: 3, 3: 4}}\n"
     ]
    }
   ],
   "source": [
    "print(mapp)\n",
    "print(mappc)"
   ]
  },
  {
   "cell_type": "code",
   "execution_count": 30,
   "metadata": {
    "execution": {
     "iopub.execute_input": "2021-03-05T18:57:22.393050Z",
     "iopub.status.busy": "2021-03-05T18:57:22.392341Z",
     "iopub.status.idle": "2021-03-05T18:57:22.395831Z",
     "shell.execute_reply": "2021-03-05T18:57:22.395202Z"
    },
    "papermill": {
     "duration": 0.079094,
     "end_time": "2021-03-05T18:57:22.395972",
     "exception": false,
     "start_time": "2021-03-05T18:57:22.316878",
     "status": "completed"
    },
    "tags": []
   },
   "outputs": [
    {
     "data": {
      "text/plain": [
       "Index(['client_id', 'app_date', 'education', 'sex', 'age', 'car', 'car_type',\n",
       "       'decline_app_cnt', 'good_work', 'score_bki', 'bki_request_cnt',\n",
       "       'region_rating', 'home_address', 'work_address', 'income', 'sna',\n",
       "       'first_time', 'foreign_passport', 'default', 'sample',\n",
       "       'mean_income_age', 'max_income_age', 'normalized_income',\n",
       "       'mean_requests_age', 'mean_requests_income', 'mean_income_region'],\n",
       "      dtype='object')"
      ]
     },
     "execution_count": 30,
     "metadata": {},
     "output_type": "execute_result"
    }
   ],
   "source": [
    "df.columns"
   ]
  },
  {
   "cell_type": "code",
   "execution_count": 31,
   "metadata": {
    "execution": {
     "iopub.execute_input": "2021-03-05T18:57:22.543678Z",
     "iopub.status.busy": "2021-03-05T18:57:22.542943Z",
     "iopub.status.idle": "2021-03-05T18:57:22.546492Z",
     "shell.execute_reply": "2021-03-05T18:57:22.545974Z"
    },
    "papermill": {
     "duration": 0.079967,
     "end_time": "2021-03-05T18:57:22.546653",
     "exception": false,
     "start_time": "2021-03-05T18:57:22.466686",
     "status": "completed"
    },
    "tags": []
   },
   "outputs": [],
   "source": [
    "# need to rename the columns\n",
    "num_cols = ['age','decline_app_cnt','score_bki','income','bki_request_cnt','app_date', 'mean_income_age','region_rating','max_income_age', 'normalized_income',\n",
    "       'mean_requests_age', 'mean_requests_income', 'mean_income_region'] # numerical\n",
    "cat_cols = ['education','work_address','home_address','sna','first_time'] # categorical\n",
    "bin_cols = ['sex','car','car_type','good_work','foreign_passport'] # binary"
   ]
  },
  {
   "cell_type": "markdown",
   "metadata": {
    "papermill": {
     "duration": 0.070827,
     "end_time": "2021-03-05T18:57:22.688020",
     "exception": false,
     "start_time": "2021-03-05T18:57:22.617193",
     "status": "completed"
    },
    "tags": []
   },
   "source": [
    "### Now let's deal with the outliers"
   ]
  },
  {
   "cell_type": "code",
   "execution_count": 32,
   "metadata": {
    "execution": {
     "iopub.execute_input": "2021-03-05T18:57:22.853421Z",
     "iopub.status.busy": "2021-03-05T18:57:22.852415Z",
     "iopub.status.idle": "2021-03-05T18:57:23.018575Z",
     "shell.execute_reply": "2021-03-05T18:57:23.017780Z"
    },
    "papermill": {
     "duration": 0.259696,
     "end_time": "2021-03-05T18:57:23.018766",
     "exception": false,
     "start_time": "2021-03-05T18:57:22.759070",
     "status": "completed"
    },
    "tags": []
   },
   "outputs": [
    {
     "name": "stdout",
     "output_type": "stream",
     "text": [
      "Columns:  age\n",
      "25%: 30.0, 75%: 48.0, IQR: 18.0,  Borderline: [3.0, 75.0].\n",
      "Columns:  decline_app_cnt\n",
      "25%: 0.0, 75%: 0.0, IQR: 0.0,  Borderline: [0.0, 0.0].\n",
      "Columns:  score_bki\n",
      "25%: -2.2604336700000003, 75%: -1.5678881525, IQR: 0.6925455175000004,  Borderline: [-3.299251946250001, -0.5290698762499992].\n",
      "Columns:  income\n",
      "25%: 9.90353755128617, 75%: 10.778977123006351, IQR: 0.8754395717201806,  Borderline: [8.590378193705899, 12.092136480586621].\n",
      "Columns:  bki_request_cnt\n",
      "25%: 0.0, 75%: 1.3862943611198906, IQR: 1.3862943611198906,  Borderline: [-2.0794415416798357, 3.465735902799726].\n",
      "Columns:  app_date\n",
      "25%: 33.0, 75%: 89.0, IQR: 56.0,  Borderline: [-51.0, 173.0].\n",
      "Columns:  mean_income_age\n",
      "25%: 10.305358726970132, 75%: 10.444420558250247, IQR: 0.13906183128011484,  Borderline: [10.096765980049959, 10.653013305170418].\n",
      "Columns:  region_rating\n",
      "25%: 50.0, 75%: 60.0, IQR: 10.0,  Borderline: [35.0, 75.0].\n",
      "Columns:  max_income_age\n",
      "25%: 13.353476685668044, 75%: 13.81451105863119, IQR: 0.4610343729631463,  Borderline: [12.661925126223323, 14.506062618075909].\n",
      "Columns:  normalized_income\n",
      "25%: 0.013430427132960408, 75%: 0.053841327128479305, IQR: 0.0404108999955189,  Borderline: [-0.04718592286031794, 0.11445767712175765].\n",
      "Columns:  mean_requests_age\n",
      "25%: 0.86780129721632, 75%: 0.9372579762447628, IQR: 0.06945667902844277,  Borderline: [0.7636162786736559, 1.041442994787427].\n",
      "Columns:  mean_requests_income\n",
      "25%: 0.8445031475192104, 75%: 0.9147138726841684, IQR: 0.07021072516495797,  Borderline: [0.7391870597717735, 1.0200299604316054].\n",
      "Columns:  mean_income_region\n",
      "25%: 10.208090289049158, 75%: 10.278313764031008, IQR: 0.07022347498184978,  Borderline: [10.102755076576383, 10.383648976503782].\n"
     ]
    }
   ],
   "source": [
    "for col in num_cols:\n",
    "    median = df[col].median()\n",
    "    IQR = df[col].quantile(0.75) - df[col].quantile(0.25)\n",
    "    perc25 = df[col].quantile(0.25)\n",
    "    perc75 = df[col].quantile(0.75)\n",
    "    print(\"Columns: \", col)\n",
    "    print('25%: {},'.format(perc25), '75%: {},'.format(perc75), \n",
    "          \"IQR: {}, \".format(IQR),\"Borderline: [{f}, {l}].\".format(f=perc25 - 1.5*IQR, l=perc75 + 1.5*IQR))"
   ]
  },
  {
   "cell_type": "markdown",
   "metadata": {
    "papermill": {
     "duration": 0.07185,
     "end_time": "2021-03-05T18:57:23.162645",
     "exception": false,
     "start_time": "2021-03-05T18:57:23.090795",
     "status": "completed"
    },
    "tags": []
   },
   "source": [
    "No outliers anymore"
   ]
  },
  {
   "cell_type": "markdown",
   "metadata": {
    "papermill": {
     "duration": 0.070814,
     "end_time": "2021-03-05T18:57:23.304717",
     "exception": false,
     "start_time": "2021-03-05T18:57:23.233903",
     "status": "completed"
    },
    "tags": []
   },
   "source": [
    "## Scaling"
   ]
  },
  {
   "cell_type": "code",
   "execution_count": 33,
   "metadata": {
    "execution": {
     "iopub.execute_input": "2021-03-05T18:57:23.453892Z",
     "iopub.status.busy": "2021-03-05T18:57:23.452478Z",
     "iopub.status.idle": "2021-03-05T18:57:23.479829Z",
     "shell.execute_reply": "2021-03-05T18:57:23.479314Z"
    },
    "papermill": {
     "duration": 0.104368,
     "end_time": "2021-03-05T18:57:23.479973",
     "exception": false,
     "start_time": "2021-03-05T18:57:23.375605",
     "status": "completed"
    },
    "tags": []
   },
   "outputs": [],
   "source": [
    "df1 = df.copy()\n",
    "dataset = df.copy()"
   ]
  },
  {
   "cell_type": "code",
   "execution_count": 34,
   "metadata": {
    "execution": {
     "iopub.execute_input": "2021-03-05T18:57:23.629032Z",
     "iopub.status.busy": "2021-03-05T18:57:23.627763Z",
     "iopub.status.idle": "2021-03-05T18:57:23.705879Z",
     "shell.execute_reply": "2021-03-05T18:57:23.705210Z"
    },
    "papermill": {
     "duration": 0.155333,
     "end_time": "2021-03-05T18:57:23.706019",
     "exception": false,
     "start_time": "2021-03-05T18:57:23.550686",
     "status": "completed"
    },
    "tags": []
   },
   "outputs": [],
   "source": [
    "dataset[num_cols] = pd.DataFrame(StandardScaler().fit_transform(df[num_cols]), columns = df[num_cols].columns)\n"
   ]
  },
  {
   "cell_type": "markdown",
   "metadata": {
    "papermill": {
     "duration": 0.071323,
     "end_time": "2021-03-05T18:57:23.848588",
     "exception": false,
     "start_time": "2021-03-05T18:57:23.777265",
     "status": "completed"
    },
    "tags": []
   },
   "source": [
    "## Now let's see what features are useless"
   ]
  },
  {
   "cell_type": "markdown",
   "metadata": {
    "papermill": {
     "duration": 0.070942,
     "end_time": "2021-03-05T18:57:23.991577",
     "exception": false,
     "start_time": "2021-03-05T18:57:23.920635",
     "status": "completed"
    },
    "tags": []
   },
   "source": [
    "### ***Numerical***"
   ]
  },
  {
   "cell_type": "code",
   "execution_count": 35,
   "metadata": {
    "execution": {
     "iopub.execute_input": "2021-03-05T18:57:24.142432Z",
     "iopub.status.busy": "2021-03-05T18:57:24.140407Z",
     "iopub.status.idle": "2021-03-05T18:57:24.161926Z",
     "shell.execute_reply": "2021-03-05T18:57:24.161232Z"
    },
    "papermill": {
     "duration": 0.098931,
     "end_time": "2021-03-05T18:57:24.162261",
     "exception": false,
     "start_time": "2021-03-05T18:57:24.063330",
     "status": "completed"
    },
    "tags": []
   },
   "outputs": [],
   "source": [
    "data_temp = dataset.loc[data['sample'] == 1] "
   ]
  },
  {
   "cell_type": "code",
   "execution_count": 36,
   "metadata": {
    "execution": {
     "iopub.execute_input": "2021-03-05T18:57:24.316127Z",
     "iopub.status.busy": "2021-03-05T18:57:24.315445Z",
     "iopub.status.idle": "2021-03-05T18:57:24.579139Z",
     "shell.execute_reply": "2021-03-05T18:57:24.579624Z"
    },
    "papermill": {
     "duration": 0.345774,
     "end_time": "2021-03-05T18:57:24.579789",
     "exception": false,
     "start_time": "2021-03-05T18:57:24.234015",
     "status": "completed"
    },
    "tags": []
   },
   "outputs": [
    {
     "data": {
      "text/plain": [
       "<AxesSubplot:>"
      ]
     },
     "execution_count": 36,
     "metadata": {},
     "output_type": "execute_result"
    },
    {
     "data": {
      "image/png": "[encoded data removed]",
      "text/plain": [
       "<Figure size 1080x720 with 1 Axes>"
      ]
     },
     "metadata": {
      "needs_background": "light"
     },
     "output_type": "display_data"
    }
   ],
   "source": [
    "imp_num = pd.Series(f_classif(data_temp[num_cols], data_temp['default'])[0], index = num_cols)\n",
    "imp_num.sort_values(inplace = True)\n",
    "imp_num.plot(kind = 'barh', color='pink')"
   ]
  },
  {
   "cell_type": "markdown",
   "metadata": {
    "papermill": {
     "duration": 0.073092,
     "end_time": "2021-03-05T18:57:24.725777",
     "exception": false,
     "start_time": "2021-03-05T18:57:24.652685",
     "status": "completed"
    },
    "tags": []
   },
   "source": [
    "### ***Categorical and Binary***"
   ]
  },
  {
   "cell_type": "code",
   "execution_count": 37,
   "metadata": {
    "execution": {
     "iopub.execute_input": "2021-03-05T18:57:24.878728Z",
     "iopub.status.busy": "2021-03-05T18:57:24.878003Z",
     "iopub.status.idle": "2021-03-05T18:57:25.245540Z",
     "shell.execute_reply": "2021-03-05T18:57:25.244903Z"
    },
    "papermill": {
     "duration": 0.447449,
     "end_time": "2021-03-05T18:57:25.245694",
     "exception": false,
     "start_time": "2021-03-05T18:57:24.798245",
     "status": "completed"
    },
    "tags": []
   },
   "outputs": [
    {
     "data": {
      "text/plain": [
       "<AxesSubplot:>"
      ]
     },
     "execution_count": 37,
     "metadata": {},
     "output_type": "execute_result"
    },
    {
     "data": {
      "image/png": "[encoded data removed]",
      "text/plain": [
       "<Figure size 1080x720 with 1 Axes>"
      ]
     },
     "metadata": {
      "needs_background": "light"
     },
     "output_type": "display_data"
    }
   ],
   "source": [
    "imp_cat = pd.Series(mutual_info_classif(data_temp[bin_cols + cat_cols], data_temp['default'],\n",
    "                                     discrete_features =True), index = bin_cols + cat_cols)\n",
    "imp_cat.sort_values(inplace = True)\n",
    "imp_cat.plot(kind = 'barh', color='pink')"
   ]
  },
  {
   "cell_type": "markdown",
   "metadata": {
    "papermill": {
     "duration": 0.073929,
     "end_time": "2021-03-05T18:57:25.393390",
     "exception": false,
     "start_time": "2021-03-05T18:57:25.319461",
     "status": "completed"
    },
    "tags": []
   },
   "source": [
    "## Encoding"
   ]
  },
  {
   "cell_type": "code",
   "execution_count": 38,
   "metadata": {
    "execution": {
     "iopub.execute_input": "2021-03-05T18:57:25.554959Z",
     "iopub.status.busy": "2021-03-05T18:57:25.553902Z",
     "iopub.status.idle": "2021-03-05T18:57:25.576590Z",
     "shell.execute_reply": "2021-03-05T18:57:25.575972Z"
    },
    "papermill": {
     "duration": 0.1083,
     "end_time": "2021-03-05T18:57:25.576744",
     "exception": false,
     "start_time": "2021-03-05T18:57:25.468444",
     "status": "completed"
    },
    "tags": []
   },
   "outputs": [],
   "source": [
    "df = pd.get_dummies(dataset, prefix=cat_cols, columns=cat_cols) # categorical dummies"
   ]
  },
  {
   "cell_type": "code",
   "execution_count": 39,
   "metadata": {
    "execution": {
     "iopub.execute_input": "2021-03-05T18:57:25.732792Z",
     "iopub.status.busy": "2021-03-05T18:57:25.730869Z",
     "iopub.status.idle": "2021-03-05T18:57:25.739626Z",
     "shell.execute_reply": "2021-03-05T18:57:25.738934Z"
    },
    "papermill": {
     "duration": 0.087779,
     "end_time": "2021-03-05T18:57:25.739769",
     "exception": false,
     "start_time": "2021-03-05T18:57:25.651990",
     "status": "completed"
    },
    "tags": []
   },
   "outputs": [],
   "source": [
    "data = df.copy()"
   ]
  },
  {
   "cell_type": "code",
   "execution_count": 40,
   "metadata": {
    "execution": {
     "iopub.execute_input": "2021-03-05T18:57:25.921066Z",
     "iopub.status.busy": "2021-03-05T18:57:25.902181Z",
     "iopub.status.idle": "2021-03-05T18:57:25.925682Z",
     "shell.execute_reply": "2021-03-05T18:57:25.924981Z"
    },
    "papermill": {
     "duration": 0.107229,
     "end_time": "2021-03-05T18:57:25.925859",
     "exception": false,
     "start_time": "2021-03-05T18:57:25.818630",
     "status": "completed"
    },
    "tags": []
   },
   "outputs": [
    {
     "data": {
      "text/html": [
       "<div>\n",
       "<style scoped>\n",
       "    .dataframe tbody tr th:only-of-type {\n",
       "        vertical-align: middle;\n",
       "    }\n",
       "\n",
       "    .dataframe tbody tr th {\n",
       "        vertical-align: top;\n",
       "    }\n",
       "\n",
       "    .dataframe thead th {\n",
       "        text-align: right;\n",
       "    }\n",
       "</style>\n",
       "<table border=\"1\" class=\"dataframe\">\n",
       "  <thead>\n",
       "    <tr style=\"text-align: right;\">\n",
       "      <th></th>\n",
       "      <th>client_id</th>\n",
       "      <th>app_date</th>\n",
       "      <th>sex</th>\n",
       "      <th>age</th>\n",
       "      <th>car</th>\n",
       "      <th>car_type</th>\n",
       "      <th>decline_app_cnt</th>\n",
       "      <th>good_work</th>\n",
       "      <th>score_bki</th>\n",
       "      <th>bki_request_cnt</th>\n",
       "      <th>...</th>\n",
       "      <th>home_address_1</th>\n",
       "      <th>home_address_2</th>\n",
       "      <th>sna_0</th>\n",
       "      <th>sna_1</th>\n",
       "      <th>sna_2</th>\n",
       "      <th>sna_3</th>\n",
       "      <th>first_time_0</th>\n",
       "      <th>first_time_1</th>\n",
       "      <th>first_time_2</th>\n",
       "      <th>first_time_3</th>\n",
       "    </tr>\n",
       "  </thead>\n",
       "  <tbody>\n",
       "    <tr>\n",
       "      <th>0</th>\n",
       "      <td>25905</td>\n",
       "      <td>-0.934391</td>\n",
       "      <td>1</td>\n",
       "      <td>1.975219</td>\n",
       "      <td>1</td>\n",
       "      <td>1</td>\n",
       "      <td>-0.418815</td>\n",
       "      <td>0</td>\n",
       "      <td>-0.208688</td>\n",
       "      <td>-0.281790</td>\n",
       "      <td>...</td>\n",
       "      <td>0</td>\n",
       "      <td>0</td>\n",
       "      <td>0</td>\n",
       "      <td>0</td>\n",
       "      <td>0</td>\n",
       "      <td>1</td>\n",
       "      <td>1</td>\n",
       "      <td>0</td>\n",
       "      <td>0</td>\n",
       "      <td>0</td>\n",
       "    </tr>\n",
       "    <tr>\n",
       "      <th>1</th>\n",
       "      <td>63161</td>\n",
       "      <td>0.281474</td>\n",
       "      <td>0</td>\n",
       "      <td>1.714757</td>\n",
       "      <td>0</td>\n",
       "      <td>0</td>\n",
       "      <td>-0.418815</td>\n",
       "      <td>0</td>\n",
       "      <td>0.745419</td>\n",
       "      <td>0.770563</td>\n",
       "      <td>...</td>\n",
       "      <td>1</td>\n",
       "      <td>0</td>\n",
       "      <td>0</td>\n",
       "      <td>0</td>\n",
       "      <td>0</td>\n",
       "      <td>1</td>\n",
       "      <td>1</td>\n",
       "      <td>0</td>\n",
       "      <td>0</td>\n",
       "      <td>0</td>\n",
       "    </tr>\n",
       "    <tr>\n",
       "      <th>2</th>\n",
       "      <td>25887</td>\n",
       "      <td>-0.934391</td>\n",
       "      <td>1</td>\n",
       "      <td>-1.237142</td>\n",
       "      <td>1</td>\n",
       "      <td>0</td>\n",
       "      <td>2.621662</td>\n",
       "      <td>0</td>\n",
       "      <td>0.993988</td>\n",
       "      <td>-0.281790</td>\n",
       "      <td>...</td>\n",
       "      <td>0</td>\n",
       "      <td>0</td>\n",
       "      <td>1</td>\n",
       "      <td>0</td>\n",
       "      <td>0</td>\n",
       "      <td>0</td>\n",
       "      <td>0</td>\n",
       "      <td>0</td>\n",
       "      <td>0</td>\n",
       "      <td>1</td>\n",
       "    </tr>\n",
       "  </tbody>\n",
       "</table>\n",
       "<p>3 rows × 40 columns</p>\n",
       "</div>"
      ],
      "text/plain": [
       "   client_id  app_date  sex       age  car  car_type  decline_app_cnt  \\\n",
       "0      25905 -0.934391    1  1.975219    1         1        -0.418815   \n",
       "1      63161  0.281474    0  1.714757    0         0        -0.418815   \n",
       "2      25887 -0.934391    1 -1.237142    1         0         2.621662   \n",
       "\n",
       "   good_work  score_bki  bki_request_cnt  ...  home_address_1  home_address_2  \\\n",
       "0          0  -0.208688        -0.281790  ...               0               0   \n",
       "1          0   0.745419         0.770563  ...               1               0   \n",
       "2          0   0.993988        -0.281790  ...               0               0   \n",
       "\n",
       "   sna_0  sna_1  sna_2  sna_3  first_time_0  first_time_1  first_time_2  \\\n",
       "0      0      0      0      1             1             0             0   \n",
       "1      0      0      0      1             1             0             0   \n",
       "2      1      0      0      0             0             0             0   \n",
       "\n",
       "   first_time_3  \n",
       "0             0  \n",
       "1             0  \n",
       "2             1  \n",
       "\n",
       "[3 rows x 40 columns]"
      ]
     },
     "execution_count": 40,
     "metadata": {},
     "output_type": "execute_result"
    }
   ],
   "source": [
    "data.head(3)"
   ]
  },
  {
   "cell_type": "markdown",
   "metadata": {
    "papermill": {
     "duration": 0.074754,
     "end_time": "2021-03-05T18:57:26.075880",
     "exception": false,
     "start_time": "2021-03-05T18:57:26.001126",
     "status": "completed"
    },
    "tags": []
   },
   "source": [
    "# Modeling"
   ]
  },
  {
   "cell_type": "code",
   "execution_count": 41,
   "metadata": {
    "execution": {
     "iopub.execute_input": "2021-03-05T18:57:26.233436Z",
     "iopub.status.busy": "2021-03-05T18:57:26.232766Z",
     "iopub.status.idle": "2021-03-05T18:57:26.276242Z",
     "shell.execute_reply": "2021-03-05T18:57:26.276716Z"
    },
    "papermill": {
     "duration": 0.124893,
     "end_time": "2021-03-05T18:57:26.276901",
     "exception": false,
     "start_time": "2021-03-05T18:57:26.152008",
     "status": "completed"
    },
    "tags": []
   },
   "outputs": [],
   "source": [
    "train_df = df.query('sample == 1').drop(['sample','client_id'], axis=1)\n",
    "test_df = df.query('sample == 0').drop(['sample','client_id'], axis=1)"
   ]
  },
  {
   "cell_type": "code",
   "execution_count": 42,
   "metadata": {
    "execution": {
     "iopub.execute_input": "2021-03-05T18:57:26.430909Z",
     "iopub.status.busy": "2021-03-05T18:57:26.430299Z",
     "iopub.status.idle": "2021-03-05T18:57:26.447250Z",
     "shell.execute_reply": "2021-03-05T18:57:26.447724Z"
    },
    "papermill": {
     "duration": 0.096055,
     "end_time": "2021-03-05T18:57:26.447906",
     "exception": false,
     "start_time": "2021-03-05T18:57:26.351851",
     "status": "completed"
    },
    "tags": []
   },
   "outputs": [],
   "source": [
    "X = train_df.drop(['default'], axis=1).values\n",
    "y = train_df['default'].values # <--- target"
   ]
  },
  {
   "cell_type": "code",
   "execution_count": 43,
   "metadata": {
    "execution": {
     "iopub.execute_input": "2021-03-05T18:57:26.601733Z",
     "iopub.status.busy": "2021-03-05T18:57:26.600995Z",
     "iopub.status.idle": "2021-03-05T18:57:26.639150Z",
     "shell.execute_reply": "2021-03-05T18:57:26.639696Z"
    },
    "papermill": {
     "duration": 0.116852,
     "end_time": "2021-03-05T18:57:26.639872",
     "exception": false,
     "start_time": "2021-03-05T18:57:26.523020",
     "status": "completed"
    },
    "tags": []
   },
   "outputs": [],
   "source": [
    "X_train, X_valid, y_train, y_valid = train_test_split(X, y, test_size=0.20, random_state=69)"
   ]
  },
  {
   "cell_type": "code",
   "execution_count": 44,
   "metadata": {
    "execution": {
     "iopub.execute_input": "2021-03-05T18:57:26.794027Z",
     "iopub.status.busy": "2021-03-05T18:57:26.793393Z",
     "iopub.status.idle": "2021-03-05T18:57:26.797350Z",
     "shell.execute_reply": "2021-03-05T18:57:26.797829Z"
    },
    "papermill": {
     "duration": 0.083013,
     "end_time": "2021-03-05T18:57:26.797992",
     "exception": false,
     "start_time": "2021-03-05T18:57:26.714979",
     "status": "completed"
    },
    "tags": []
   },
   "outputs": [],
   "source": [
    "lr = LogisticRegression(max_iter = 1000)"
   ]
  },
  {
   "cell_type": "code",
   "execution_count": 45,
   "metadata": {
    "execution": {
     "iopub.execute_input": "2021-03-05T18:57:26.954167Z",
     "iopub.status.busy": "2021-03-05T18:57:26.953448Z",
     "iopub.status.idle": "2021-03-05T18:57:28.370787Z",
     "shell.execute_reply": "2021-03-05T18:57:28.370260Z"
    },
    "papermill": {
     "duration": 1.497222,
     "end_time": "2021-03-05T18:57:28.370936",
     "exception": false,
     "start_time": "2021-03-05T18:57:26.873714",
     "status": "completed"
    },
    "tags": []
   },
   "outputs": [],
   "source": [
    "lr.fit(X_train, y_train)\n",
    "y_pred = lr.predict(X_valid)"
   ]
  },
  {
   "cell_type": "markdown",
   "metadata": {
    "papermill": {
     "duration": 0.076214,
     "end_time": "2021-03-05T18:57:28.522635",
     "exception": false,
     "start_time": "2021-03-05T18:57:28.446421",
     "status": "completed"
    },
    "tags": []
   },
   "source": [
    "## **ROC AUC**"
   ]
  },
  {
   "cell_type": "code",
   "execution_count": 46,
   "metadata": {
    "execution": {
     "iopub.execute_input": "2021-03-05T18:57:28.683267Z",
     "iopub.status.busy": "2021-03-05T18:57:28.682150Z",
     "iopub.status.idle": "2021-03-05T18:57:28.931949Z",
     "shell.execute_reply": "2021-03-05T18:57:28.931336Z"
    },
    "papermill": {
     "duration": 0.333915,
     "end_time": "2021-03-05T18:57:28.932104",
     "exception": false,
     "start_time": "2021-03-05T18:57:28.598189",
     "status": "completed"
    },
    "tags": []
   },
   "outputs": [
    {
     "data": {
      "image/png": "[encoded data removed]",
      "text/plain": [
       "<Figure size 1080x720 with 1 Axes>"
      ]
     },
     "metadata": {
      "needs_background": "light"
     },
     "output_type": "display_data"
    }
   ],
   "source": [
    "probs = lr.predict_proba(X_valid)\n",
    "probs = probs[:,1]\n",
    "\n",
    "\n",
    "fpr, tpr, threshold = roc_curve(y_valid, probs)\n",
    "roc_auc = roc_auc_score(y_valid, probs)\n",
    "\n",
    "plt.figure()\n",
    "plt.plot([0, 1], label='Baseline', linestyle='--')\n",
    "plt.plot(fpr, tpr, label = 'Regression')\n",
    "plt.title('Logistic Regression ROC AUC = %0.3f' % roc_auc)\n",
    "plt.ylabel('True Positive Rate')\n",
    "plt.xlabel('False Positive Rate')\n",
    "plt.legend(loc = 'lower right')\n",
    "plt.show()"
   ]
  },
  {
   "cell_type": "markdown",
   "metadata": {
    "papermill": {
     "duration": 0.076964,
     "end_time": "2021-03-05T18:57:29.086507",
     "exception": false,
     "start_time": "2021-03-05T18:57:29.009543",
     "status": "completed"
    },
    "tags": []
   },
   "source": [
    "Let's see if we can make it better"
   ]
  },
  {
   "cell_type": "code",
   "execution_count": 47,
   "metadata": {
    "execution": {
     "iopub.execute_input": "2021-03-05T18:57:29.248946Z",
     "iopub.status.busy": "2021-03-05T18:57:29.247944Z",
     "iopub.status.idle": "2021-03-05T18:57:29.268356Z",
     "shell.execute_reply": "2021-03-05T18:57:29.269365Z"
    },
    "papermill": {
     "duration": 0.10547,
     "end_time": "2021-03-05T18:57:29.269662",
     "exception": false,
     "start_time": "2021-03-05T18:57:29.164192",
     "status": "completed"
    },
    "tags": []
   },
   "outputs": [
    {
     "name": "stdout",
     "output_type": "stream",
     "text": [
      "accuracy_score: 0.8726964769647696\n",
      "precision_score: 0.504\n",
      "recall_score: 0.03351063829787234\n",
      "f1_score: 0.06284289276807979\n"
     ]
    }
   ],
   "source": [
    "print('accuracy_score:',accuracy_score(y_valid,y_pred))\n",
    "print('precision_score:',precision_score(y_valid,y_pred))\n",
    "print('recall_score:',recall_score(y_valid,y_pred))\n",
    "print('f1_score:',f1_score(y_valid,y_pred))"
   ]
  },
  {
   "cell_type": "markdown",
   "metadata": {
    "papermill": {
     "duration": 0.078069,
     "end_time": "2021-03-05T18:57:29.427054",
     "exception": false,
     "start_time": "2021-03-05T18:57:29.348985",
     "status": "completed"
    },
    "tags": []
   },
   "source": [
    "Metrics show that in actuality, the model sucks"
   ]
  },
  {
   "cell_type": "markdown",
   "metadata": {
    "papermill": {
     "duration": 0.077626,
     "end_time": "2021-03-05T18:57:29.582763",
     "exception": false,
     "start_time": "2021-03-05T18:57:29.505137",
     "status": "completed"
    },
    "tags": []
   },
   "source": [
    "### Confusion matrix"
   ]
  },
  {
   "cell_type": "code",
   "execution_count": 48,
   "metadata": {
    "execution": {
     "iopub.execute_input": "2021-03-05T18:57:29.745011Z",
     "iopub.status.busy": "2021-03-05T18:57:29.744358Z",
     "iopub.status.idle": "2021-03-05T18:57:29.996134Z",
     "shell.execute_reply": "2021-03-05T18:57:29.995472Z"
    },
    "papermill": {
     "duration": 0.33532,
     "end_time": "2021-03-05T18:57:29.996278",
     "exception": false,
     "start_time": "2021-03-05T18:57:29.660958",
     "status": "completed"
    },
    "tags": []
   },
   "outputs": [
    {
     "data": {
      "text/plain": [
       "[Text(0.5, 0, 'Predicted'), Text(0, 0.5, 'True')]"
      ]
     },
     "execution_count": 48,
     "metadata": {},
     "output_type": "execute_result"
    },
    {
     "data": {
      "image/png": "[encoded data removed]",
      "text/plain": [
       "<Figure size 1080x720 with 2 Axes>"
      ]
     },
     "metadata": {
      "needs_background": "light"
     },
     "output_type": "display_data"
    }
   ],
   "source": [
    "cm = confusion_matrix(y_valid, y_pred)\n",
    "cmd = ConfusionMatrixDisplay(cm, display_labels=['non_default','default'])\n",
    "cmd.plot()\n",
    "cmd.ax_.set(xlabel='Predicted', ylabel='True')"
   ]
  },
  {
   "cell_type": "markdown",
   "metadata": {
    "papermill": {
     "duration": 0.079513,
     "end_time": "2021-03-05T18:57:30.156152",
     "exception": false,
     "start_time": "2021-03-05T18:57:30.076639",
     "status": "completed"
    },
    "tags": []
   },
   "source": [
    "SHeeeesh.. our model will give out credit to practically everyone, that is not good, let's make it better by tweeking hyperparameters"
   ]
  },
  {
   "cell_type": "markdown",
   "metadata": {
    "papermill": {
     "duration": 0.079315,
     "end_time": "2021-03-05T18:57:30.316028",
     "exception": false,
     "start_time": "2021-03-05T18:57:30.236713",
     "status": "completed"
    },
    "tags": []
   },
   "source": [
    "# Tuning"
   ]
  },
  {
   "cell_type": "code",
   "execution_count": 49,
   "metadata": {
    "execution": {
     "iopub.execute_input": "2021-03-05T18:57:30.481438Z",
     "iopub.status.busy": "2021-03-05T18:57:30.480427Z",
     "iopub.status.idle": "2021-03-05T18:57:30.516105Z",
     "shell.execute_reply": "2021-03-05T18:57:30.517144Z"
    },
    "papermill": {
     "duration": 0.12168,
     "end_time": "2021-03-05T18:57:30.517362",
     "exception": false,
     "start_time": "2021-03-05T18:57:30.395682",
     "status": "completed"
    },
    "tags": []
   },
   "outputs": [],
   "source": [
    "train_df = df.query('sample == 1').drop(['sample','client_id'], axis=1)\n",
    "test_df = df.query('sample == 0').drop(['sample','client_id'], axis=1)"
   ]
  },
  {
   "cell_type": "code",
   "execution_count": 50,
   "metadata": {
    "execution": {
     "iopub.execute_input": "2021-03-05T18:57:30.680322Z",
     "iopub.status.busy": "2021-03-05T18:57:30.679674Z",
     "iopub.status.idle": "2021-03-05T18:57:30.698579Z",
     "shell.execute_reply": "2021-03-05T18:57:30.697994Z"
    },
    "papermill": {
     "duration": 0.101052,
     "end_time": "2021-03-05T18:57:30.698717",
     "exception": false,
     "start_time": "2021-03-05T18:57:30.597665",
     "status": "completed"
    },
    "tags": []
   },
   "outputs": [],
   "source": [
    "X = train_df.drop(['default'], axis=1).values\n",
    "y = train_df['default'].values # целевая переменная"
   ]
  },
  {
   "cell_type": "code",
   "execution_count": 51,
   "metadata": {
    "execution": {
     "iopub.execute_input": "2021-03-05T18:57:30.861584Z",
     "iopub.status.busy": "2021-03-05T18:57:30.860918Z",
     "iopub.status.idle": "2021-03-05T18:57:30.893953Z",
     "shell.execute_reply": "2021-03-05T18:57:30.894501Z"
    },
    "papermill": {
     "duration": 0.116236,
     "end_time": "2021-03-05T18:57:30.894685",
     "exception": false,
     "start_time": "2021-03-05T18:57:30.778449",
     "status": "completed"
    },
    "tags": []
   },
   "outputs": [],
   "source": [
    "X_train, X_valid, y_train, y_valid = train_test_split(X, y, test_size=0.20, random_state=42)"
   ]
  },
  {
   "cell_type": "code",
   "execution_count": 52,
   "metadata": {
    "execution": {
     "iopub.execute_input": "2021-03-05T18:57:31.062657Z",
     "iopub.status.busy": "2021-03-05T18:57:31.061989Z",
     "iopub.status.idle": "2021-03-05T19:35:20.066196Z",
     "shell.execute_reply": "2021-03-05T19:35:20.066730Z"
    },
    "papermill": {
     "duration": 2269.092217,
     "end_time": "2021-03-05T19:35:20.066949",
     "exception": false,
     "start_time": "2021-03-05T18:57:30.974732",
     "status": "completed"
    },
    "tags": []
   },
   "outputs": [
    {
     "name": "stdout",
     "output_type": "stream",
     "text": [
      "Fitting 5 folds for each of 128 candidates, totalling 640 fits\n",
      "Best Score:  0.731446655416028\n",
      "Best Params:  {'C': 0.1, 'class_weight': {1: 0.7, 0: 0.3}, 'penalty': 'l2', 'solver': 'saga'}\n"
     ]
    }
   ],
   "source": [
    "penalty = ['l1', 'l2']\n",
    "C = [0.0001, 0.001, 0.01, 0.1, 1, 10, 100, 1000]\n",
    "class_weight = [{1:0.5, 0:0.5}, {1:0.4, 0:0.6}, {1:0.6, 0:0.4}, {1:0.7, 0:0.3}]\n",
    "solver = ['liblinear', 'saga']\n",
    "\n",
    "param_grid = dict(penalty=penalty,\n",
    "                  C=C,\n",
    "                  class_weight=class_weight,\n",
    "                  solver=solver)\n",
    "\n",
    "grid = GridSearchCV(estimator=lr, param_grid=param_grid, scoring='roc_auc', verbose=1, n_jobs=-1)\n",
    "grid_result = grid.fit(X_train, y_train)\n",
    "\n",
    "print('Best Score: ', grid_result.best_score_)\n",
    "print('Best Params: ', grid_result.best_params_)"
   ]
  },
  {
   "cell_type": "markdown",
   "metadata": {
    "papermill": {
     "duration": 0.080354,
     "end_time": "2021-03-05T19:35:20.228671",
     "exception": false,
     "start_time": "2021-03-05T19:35:20.148317",
     "status": "completed"
    },
    "tags": []
   },
   "source": [
    "## ROC AUC"
   ]
  },
  {
   "cell_type": "code",
   "execution_count": 53,
   "metadata": {
    "execution": {
     "iopub.execute_input": "2021-03-05T19:35:20.396680Z",
     "iopub.status.busy": "2021-03-05T19:35:20.395961Z",
     "iopub.status.idle": "2021-03-05T19:35:20.650494Z",
     "shell.execute_reply": "2021-03-05T19:35:20.649818Z"
    },
    "papermill": {
     "duration": 0.341693,
     "end_time": "2021-03-05T19:35:20.650636",
     "exception": false,
     "start_time": "2021-03-05T19:35:20.308943",
     "status": "completed"
    },
    "tags": []
   },
   "outputs": [
    {
     "data": {
      "image/png": "[encoded data removed]",
      "text/plain": [
       "<Figure size 1080x720 with 1 Axes>"
      ]
     },
     "metadata": {
      "needs_background": "light"
     },
     "output_type": "display_data"
    }
   ],
   "source": [
    "probs = lr.predict_proba(X_valid)\n",
    "probs = probs[:,1]\n",
    "\n",
    "\n",
    "fpr, tpr, threshold = roc_curve(y_valid, probs)\n",
    "roc_auc = roc_auc_score(y_valid, probs)\n",
    "\n",
    "plt.figure()\n",
    "plt.plot([0, 1], label='Baseline', linestyle='--')\n",
    "plt.plot(fpr, tpr, label = 'Regression')\n",
    "plt.title('Logistic Regression ROC AUC = %0.3f' % roc_auc)\n",
    "plt.ylabel('True Positive Rate')\n",
    "plt.xlabel('False Positive Rate')\n",
    "plt.legend(loc = 'lower right')\n",
    "plt.show()"
   ]
  },
  {
   "cell_type": "markdown",
   "metadata": {
    "papermill": {
     "duration": 0.082964,
     "end_time": "2021-03-05T19:35:20.815822",
     "exception": false,
     "start_time": "2021-03-05T19:35:20.732858",
     "status": "completed"
    },
    "tags": []
   },
   "source": [
    "ROC AUC IS Much better"
   ]
  },
  {
   "cell_type": "code",
   "execution_count": 54,
   "metadata": {
    "execution": {
     "iopub.execute_input": "2021-03-05T19:35:20.989435Z",
     "iopub.status.busy": "2021-03-05T19:35:20.988727Z",
     "iopub.status.idle": "2021-03-05T19:35:21.246726Z",
     "shell.execute_reply": "2021-03-05T19:35:21.246176Z"
    },
    "papermill": {
     "duration": 0.34671,
     "end_time": "2021-03-05T19:35:21.246877",
     "exception": false,
     "start_time": "2021-03-05T19:35:20.900167",
     "status": "completed"
    },
    "tags": []
   },
   "outputs": [
    {
     "data": {
      "text/plain": [
       "[Text(0.5, 0, 'Predicted'), Text(0, 0.5, 'True')]"
      ]
     },
     "execution_count": 54,
     "metadata": {},
     "output_type": "execute_result"
    },
    {
     "data": {
      "image/png": "[encoded data removed]",
      "text/plain": [
       "<Figure size 1080x720 with 2 Axes>"
      ]
     },
     "metadata": {
      "needs_background": "light"
     },
     "output_type": "display_data"
    }
   ],
   "source": [
    "cm = confusion_matrix(y_valid, y_pred)\n",
    "cmd = ConfusionMatrixDisplay(cm, display_labels=['non_default','default'])\n",
    "cmd.plot()\n",
    "cmd.ax_.set(xlabel='Predicted', ylabel='True')"
   ]
  },
  {
   "cell_type": "code",
   "execution_count": 55,
   "metadata": {
    "execution": {
     "iopub.execute_input": "2021-03-05T19:35:21.423545Z",
     "iopub.status.busy": "2021-03-05T19:35:21.422552Z",
     "iopub.status.idle": "2021-03-05T19:35:21.451121Z",
     "shell.execute_reply": "2021-03-05T19:35:21.450559Z"
    },
    "papermill": {
     "duration": 0.120165,
     "end_time": "2021-03-05T19:35:21.451261",
     "exception": false,
     "start_time": "2021-03-05T19:35:21.331096",
     "status": "completed"
    },
    "tags": []
   },
   "outputs": [
    {
     "name": "stdout",
     "output_type": "stream",
     "text": [
      "\tcv: None\n",
      "\terror_score: nan\n",
      "\testimator: LogisticRegression(max_iter=1000)\n",
      "\testimator__C: 1.0\n",
      "\testimator__class_weight: None\n",
      "\testimator__dual: False\n",
      "\testimator__fit_intercept: True\n",
      "\testimator__intercept_scaling: 1\n",
      "\testimator__l1_ratio: None\n",
      "\testimator__max_iter: 1000\n",
      "\testimator__multi_class: 'auto'\n",
      "\testimator__n_jobs: None\n",
      "\testimator__penalty: 'l2'\n",
      "\testimator__random_state: None\n",
      "\testimator__solver: 'lbfgs'\n",
      "\testimator__tol: 0.0001\n",
      "\testimator__verbose: 0\n",
      "\testimator__warm_start: False\n",
      "\tn_jobs: -1\n",
      "\tparam_grid: {'penalty': ['l1', 'l2'], 'C': [0.0001, 0.001, 0.01, 0.1, 1, 10, 100, 1000], 'class_weight': [{1: 0.5, 0: 0.5}, {1: 0.4, 0: 0.6}, {1: 0.6, 0: 0.4}, {1: 0.7, 0: 0.3}], 'solver': ['liblinear', 'saga']}\n",
      "\tpre_dispatch: '2*n_jobs'\n",
      "\trefit: True\n",
      "\treturn_train_score: False\n",
      "\tscoring: 'roc_auc'\n",
      "\tverbose: 1\n",
      "Accuracy: 0.8591\n",
      "Precision: 0.3756\n",
      "Recall: 0.2091\n",
      "F1: 0.2686\n"
     ]
    }
   ],
   "source": [
    "best_parameters = grid_result.get_params()\n",
    "for param_name in sorted(best_parameters.keys()):\n",
    "        print('\\t%s: %r' % (param_name, best_parameters[param_name]))\n",
    "\n",
    "preds = grid_result.predict(X_valid)\n",
    "print('Accuracy: %.4f' % accuracy_score(y_valid, preds))\n",
    "print('Precision: %.4f' % precision_score(y_valid, preds))\n",
    "print('Recall: %.4f' % recall_score(y_valid, preds))\n",
    "print('F1: %.4f' % f1_score(y_valid, preds))"
   ]
  },
  {
   "cell_type": "markdown",
   "metadata": {
    "papermill": {
     "duration": 0.083872,
     "end_time": "2021-03-05T19:35:21.619256",
     "exception": false,
     "start_time": "2021-03-05T19:35:21.535384",
     "status": "completed"
    },
    "tags": []
   },
   "source": [
    "### Use best_params_"
   ]
  },
  {
   "cell_type": "code",
   "execution_count": 56,
   "metadata": {
    "execution": {
     "iopub.execute_input": "2021-03-05T19:35:21.793658Z",
     "iopub.status.busy": "2021-03-05T19:35:21.792951Z",
     "iopub.status.idle": "2021-03-05T19:35:37.402257Z",
     "shell.execute_reply": "2021-03-05T19:35:37.401522Z"
    },
    "papermill": {
     "duration": 15.699222,
     "end_time": "2021-03-05T19:35:37.402398",
     "exception": false,
     "start_time": "2021-03-05T19:35:21.703176",
     "status": "completed"
    },
    "tags": []
   },
   "outputs": [],
   "source": [
    "best_model = LogisticRegression(random_state=69, C=0.1,  class_weight={1: 0.7, 0: 0.3},penalty='l2', solver='saga',warm_start=False,max_iter=1000)\n",
    "\n",
    "best_model.fit(X_train, y_train)\n",
    "y_pred_prob = best_model.predict_proba(X_valid)[:,1]\n",
    "y_pred = best_model.predict(X_valid)"
   ]
  },
  {
   "cell_type": "code",
   "execution_count": 57,
   "metadata": {
    "execution": {
     "iopub.execute_input": "2021-03-05T19:35:37.578699Z",
     "iopub.status.busy": "2021-03-05T19:35:37.577864Z",
     "iopub.status.idle": "2021-03-05T19:35:37.598901Z",
     "shell.execute_reply": "2021-03-05T19:35:37.598374Z"
    },
    "papermill": {
     "duration": 0.111236,
     "end_time": "2021-03-05T19:35:37.599038",
     "exception": false,
     "start_time": "2021-03-05T19:35:37.487802",
     "status": "completed"
    },
    "tags": []
   },
   "outputs": [
    {
     "name": "stdout",
     "output_type": "stream",
     "text": [
      "accuracy_score: 0.8590785907859079\n",
      "precision_score: 0.37561455260570303\n",
      "recall_score: 0.20908593322386426\n",
      "f1_score: 0.2686357243319269\n"
     ]
    }
   ],
   "source": [
    "print('accuracy_score:',accuracy_score(y_valid,y_pred))\n",
    "print('precision_score:',precision_score(y_valid,y_pred))\n",
    "print('recall_score:',recall_score(y_valid,y_pred))\n",
    "print('f1_score:',f1_score(y_valid,y_pred))"
   ]
  },
  {
   "cell_type": "code",
   "execution_count": 58,
   "metadata": {
    "execution": {
     "iopub.execute_input": "2021-03-05T19:35:37.776250Z",
     "iopub.status.busy": "2021-03-05T19:35:37.775179Z",
     "iopub.status.idle": "2021-03-05T19:35:38.022031Z",
     "shell.execute_reply": "2021-03-05T19:35:38.022610Z"
    },
    "papermill": {
     "duration": 0.339131,
     "end_time": "2021-03-05T19:35:38.022784",
     "exception": false,
     "start_time": "2021-03-05T19:35:37.683653",
     "status": "completed"
    },
    "tags": []
   },
   "outputs": [
    {
     "data": {
      "image/png": "[encoded data removed]",
      "text/plain": [
       "<Figure size 1080x720 with 1 Axes>"
      ]
     },
     "metadata": {
      "needs_background": "light"
     },
     "output_type": "display_data"
    }
   ],
   "source": [
    "probs = best_model.predict_proba(X_valid)\n",
    "probs = probs[:,1]\n",
    "\n",
    "\n",
    "fpr, tpr, threshold = roc_curve(y_valid, probs)\n",
    "roc_auc = roc_auc_score(y_valid, probs)\n",
    "\n",
    "plt.figure()\n",
    "plt.plot([0, 1], label='Baseline', linestyle='--')\n",
    "plt.plot(fpr, tpr, label = 'Regression')\n",
    "plt.title('Logistic Regression ROC AUC = %0.3f' % roc_auc)\n",
    "plt.ylabel('True Positive Rate')\n",
    "plt.xlabel('False Positive Rate')\n",
    "plt.legend(loc = 'lower right')\n",
    "plt.show()"
   ]
  },
  {
   "cell_type": "markdown",
   "metadata": {
    "papermill": {
     "duration": 0.086055,
     "end_time": "2021-03-05T19:35:38.196433",
     "exception": false,
     "start_time": "2021-03-05T19:35:38.110378",
     "status": "completed"
    },
    "tags": []
   },
   "source": [
    "# SUBMISSION"
   ]
  },
  {
   "cell_type": "code",
   "execution_count": 59,
   "metadata": {
    "execution": {
     "iopub.execute_input": "2021-03-05T19:35:38.372763Z",
     "iopub.status.busy": "2021-03-05T19:35:38.371814Z",
     "iopub.status.idle": "2021-03-05T19:35:38.423395Z",
     "shell.execute_reply": "2021-03-05T19:35:38.422806Z"
    },
    "papermill": {
     "duration": 0.14061,
     "end_time": "2021-03-05T19:35:38.423531",
     "exception": false,
     "start_time": "2021-03-05T19:35:38.282921",
     "status": "completed"
    },
    "tags": []
   },
   "outputs": [],
   "source": [
    "train_data = data.query('sample == 1').drop(['sample','client_id'], axis=1)\n",
    "test_data = data.query('sample == 0').drop(['sample','client_id'], axis=1)"
   ]
  },
  {
   "cell_type": "code",
   "execution_count": 60,
   "metadata": {
    "execution": {
     "iopub.execute_input": "2021-03-05T19:35:38.600647Z",
     "iopub.status.busy": "2021-03-05T19:35:38.599688Z",
     "iopub.status.idle": "2021-03-05T19:35:38.614173Z",
     "shell.execute_reply": "2021-03-05T19:35:38.614623Z"
    },
    "papermill": {
     "duration": 0.105047,
     "end_time": "2021-03-05T19:35:38.614798",
     "exception": false,
     "start_time": "2021-03-05T19:35:38.509751",
     "status": "completed"
    },
    "tags": []
   },
   "outputs": [],
   "source": [
    "X_train = train_data.drop(['default'], axis=1)\n",
    "y_train = train_data.default.values\n",
    "X_test = test_data.drop(['default'], axis=1)"
   ]
  },
  {
   "cell_type": "code",
   "execution_count": 61,
   "metadata": {
    "execution": {
     "iopub.execute_input": "2021-03-05T19:35:38.792402Z",
     "iopub.status.busy": "2021-03-05T19:35:38.791468Z",
     "iopub.status.idle": "2021-03-05T19:35:38.797292Z",
     "shell.execute_reply": "2021-03-05T19:35:38.797775Z"
    },
    "papermill": {
     "duration": 0.096524,
     "end_time": "2021-03-05T19:35:38.797949",
     "exception": false,
     "start_time": "2021-03-05T19:35:38.701425",
     "status": "completed"
    },
    "tags": []
   },
   "outputs": [
    {
     "data": {
      "text/plain": [
       "((36349, 38), (73799, 38), (73799, 37), (73799,), (36349, 37))"
      ]
     },
     "execution_count": 61,
     "metadata": {},
     "output_type": "execute_result"
    }
   ],
   "source": [
    "test_data.shape, train_data.shape, X_train.shape, y_train.shape, X_test.shape"
   ]
  },
  {
   "cell_type": "code",
   "execution_count": 62,
   "metadata": {
    "execution": {
     "iopub.execute_input": "2021-03-05T19:35:38.976926Z",
     "iopub.status.busy": "2021-03-05T19:35:38.975971Z",
     "iopub.status.idle": "2021-03-05T19:35:38.993560Z",
     "shell.execute_reply": "2021-03-05T19:35:38.994040Z"
    },
    "papermill": {
     "duration": 0.108692,
     "end_time": "2021-03-05T19:35:38.994237",
     "exception": false,
     "start_time": "2021-03-05T19:35:38.885545",
     "status": "completed"
    },
    "tags": []
   },
   "outputs": [],
   "source": [
    "\n",
    "y_pred_prob = grid_result.predict_proba(X_test)[:,1]\n",
    "y_pred = grid_result.predict(X_test)"
   ]
  },
  {
   "cell_type": "code",
   "execution_count": 63,
   "metadata": {
    "execution": {
     "iopub.execute_input": "2021-03-05T19:35:39.176829Z",
     "iopub.status.busy": "2021-03-05T19:35:39.175876Z",
     "iopub.status.idle": "2021-03-05T19:35:39.318714Z",
     "shell.execute_reply": "2021-03-05T19:35:39.318172Z"
    },
    "papermill": {
     "duration": 0.234782,
     "end_time": "2021-03-05T19:35:39.318907",
     "exception": false,
     "start_time": "2021-03-05T19:35:39.084125",
     "status": "completed"
    },
    "tags": []
   },
   "outputs": [],
   "source": [
    "submit = pd.DataFrame(test.client_id)\n",
    "submit['default']=y_pred_prob\n",
    "submit.to_csv('submission.csv', index=False)"
   ]
  },
  {
   "cell_type": "code",
   "execution_count": 64,
   "metadata": {
    "execution": {
     "iopub.execute_input": "2021-03-05T19:35:39.506338Z",
     "iopub.status.busy": "2021-03-05T19:35:39.505376Z",
     "iopub.status.idle": "2021-03-05T19:35:39.509198Z",
     "shell.execute_reply": "2021-03-05T19:35:39.509670Z"
    },
    "papermill": {
     "duration": 0.103464,
     "end_time": "2021-03-05T19:35:39.509851",
     "exception": false,
     "start_time": "2021-03-05T19:35:39.406387",
     "status": "completed"
    },
    "tags": []
   },
   "outputs": [
    {
     "data": {
      "text/html": [
       "<div>\n",
       "<style scoped>\n",
       "    .dataframe tbody tr th:only-of-type {\n",
       "        vertical-align: middle;\n",
       "    }\n",
       "\n",
       "    .dataframe tbody tr th {\n",
       "        vertical-align: top;\n",
       "    }\n",
       "\n",
       "    .dataframe thead th {\n",
       "        text-align: right;\n",
       "    }\n",
       "</style>\n",
       "<table border=\"1\" class=\"dataframe\">\n",
       "  <thead>\n",
       "    <tr style=\"text-align: right;\">\n",
       "      <th></th>\n",
       "      <th>client_id</th>\n",
       "      <th>default</th>\n",
       "    </tr>\n",
       "  </thead>\n",
       "  <tbody>\n",
       "    <tr>\n",
       "      <th>0</th>\n",
       "      <td>74835</td>\n",
       "      <td>0.085955</td>\n",
       "    </tr>\n",
       "    <tr>\n",
       "      <th>1</th>\n",
       "      <td>17527</td>\n",
       "      <td>0.580229</td>\n",
       "    </tr>\n",
       "    <tr>\n",
       "      <th>2</th>\n",
       "      <td>75683</td>\n",
       "      <td>0.134583</td>\n",
       "    </tr>\n",
       "    <tr>\n",
       "      <th>3</th>\n",
       "      <td>26883</td>\n",
       "      <td>0.180558</td>\n",
       "    </tr>\n",
       "    <tr>\n",
       "      <th>4</th>\n",
       "      <td>28862</td>\n",
       "      <td>0.058539</td>\n",
       "    </tr>\n",
       "    <tr>\n",
       "      <th>...</th>\n",
       "      <td>...</td>\n",
       "      <td>...</td>\n",
       "    </tr>\n",
       "    <tr>\n",
       "      <th>36344</th>\n",
       "      <td>83775</td>\n",
       "      <td>0.545338</td>\n",
       "    </tr>\n",
       "    <tr>\n",
       "      <th>36345</th>\n",
       "      <td>106254</td>\n",
       "      <td>0.035649</td>\n",
       "    </tr>\n",
       "    <tr>\n",
       "      <th>36346</th>\n",
       "      <td>81852</td>\n",
       "      <td>0.546248</td>\n",
       "    </tr>\n",
       "    <tr>\n",
       "      <th>36347</th>\n",
       "      <td>1971</td>\n",
       "      <td>0.372307</td>\n",
       "    </tr>\n",
       "    <tr>\n",
       "      <th>36348</th>\n",
       "      <td>69044</td>\n",
       "      <td>0.450829</td>\n",
       "    </tr>\n",
       "  </tbody>\n",
       "</table>\n",
       "<p>36349 rows × 2 columns</p>\n",
       "</div>"
      ],
      "text/plain": [
       "       client_id   default\n",
       "0          74835  0.085955\n",
       "1          17527  0.580229\n",
       "2          75683  0.134583\n",
       "3          26883  0.180558\n",
       "4          28862  0.058539\n",
       "...          ...       ...\n",
       "36344      83775  0.545338\n",
       "36345     106254  0.035649\n",
       "36346      81852  0.546248\n",
       "36347       1971  0.372307\n",
       "36348      69044  0.450829\n",
       "\n",
       "[36349 rows x 2 columns]"
      ]
     },
     "metadata": {},
     "output_type": "display_data"
    }
   ],
   "source": [
    "display(submit)"
   ]
  },
  {
   "cell_type": "code",
   "execution_count": null,
   "metadata": {
    "papermill": {
     "duration": 0.087877,
     "end_time": "2021-03-05T19:35:39.685991",
     "exception": false,
     "start_time": "2021-03-05T19:35:39.598114",
     "status": "completed"
    },
    "tags": []
   },
   "outputs": [],
   "source": []
  }
 ],
 "metadata": {
  "kernelspec": {
   "display_name": "Python 3",
   "language": "python",
   "name": "python3"
  },
  "language_info": {
   "codemirror_mode": {
    "name": "ipython",
    "version": 3
   },
   "file_extension": ".py",
   "mimetype": "text/x-python",
   "name": "python",
   "nbconvert_exporter": "python",
   "pygments_lexer": "ipython3",
   "version": "3.7.9"
  },
  "papermill": {
   "default_parameters": {},
   "duration": 2364.570128,
   "end_time": "2021-03-05T19:35:41.830134",
   "environment_variables": {},
   "exception": null,
   "input_path": "__notebook__.ipynb",
   "output_path": "__notebook__.ipynb",
   "parameters": {},
   "start_time": "2021-03-05T18:56:17.260006",
   "version": "2.2.2"
  }
 },
 "nbformat": 4,
 "nbformat_minor": 4
}
